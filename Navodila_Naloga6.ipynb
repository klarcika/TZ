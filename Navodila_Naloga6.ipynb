{
  "nbformat": 4,
  "nbformat_minor": 0,
  "metadata": {
    "colab": {
      "provenance": [],
      "authorship_tag": "ABX9TyO42vp/wIyX0K0MMIH7oDoM",
      "include_colab_link": true
    },
    "kernelspec": {
      "name": "python3",
      "display_name": "Python 3"
    },
    "language_info": {
      "name": "python"
    }
  },
  "cells": [
    {
      "cell_type": "markdown",
      "metadata": {
        "id": "view-in-github",
        "colab_type": "text"
      },
      "source": [
        "<a href=\"https://colab.research.google.com/github/klarcika/TZ/blob/main/Navodila_Naloga6.ipynb\" target=\"_parent\"><img src=\"https://colab.research.google.com/assets/colab-badge.svg\" alt=\"Open In Colab\"/></a>"
      ]
    },
    {
      "cell_type": "markdown",
      "source": [
        "klasifikaicja teksta ni tezavna, pomembno je kako teks pripravimo,\n",
        "besedilo\n",
        "binarna klasifikacija da boljse razultate\n",
        "za obdelavo besedila si moremo naloziti nltk. d, package book"
      ],
      "metadata": {
        "id": "PzA4uEvOjZ0R"
      }
    },
    {
      "cell_type": "markdown",
      "source": [
        "tokenizacija- razdelimo besedilo na tokeni[posamezni deli besedila, niso besede]\n",
        "vsi deli ki sestavljajo besedilo se pretvorijo v tokene;\n",
        "ko pretvorimo besedila, dobimo veliko tokenov"
      ],
      "metadata": {
        "id": "_JyUQAVvkQo7"
      }
    },
    {
      "cell_type": "markdown",
      "source": [
        "vse instance morejo biti tokenizirane; tokeni sami nam nic ne pove;\n",
        "pomenskost besedila nam pove frekvenca [kako pogosto se nek token ponovi v besedilu]\n",
        "nepomeniskih besed se znebimo; *stopword* - znaki besede ki nimajo nekega pomena + ločila => dobimo nabor besed ki jih je potrebno"
      ],
      "metadata": {
        "id": "W2TzBwIFk_x1"
      }
    },
    {
      "cell_type": "markdown",
      "source": [
        "*krnjenje/ stemming*- poisce koren besede; PorterStemmer\n",
        "\n",
        "*lematizacija*- nedoločna oblika besede ;\n",
        "kaj izberemo je odvisno od problemo, ampak moramo vsaj enega uporabiti (change in changes lahko algoritem jemlje kot razčlični besedi, in potem išče po besedilu)\n",
        "- zmanjšamo nabor besed\n",
        "- namen je čim manj tokenov, ki so čim bolj relevantni\n",
        "- čim manj nepomenskih, in več pomenskih tokenov;\n",
        "---\n",
        "unigram vzamemo vsak token posebaj\n",
        "bigrami prvi pa drugi token skup itn.;\n",
        "\n",
        "trigram skup- prvi3 skupaj itn.\n",
        "sama frekveca pojavjavitve je pomembne, iscemo besede ki so specificne za posamezna besedila(ce ima npr. book pri vseh besedilah veliko pojavi je nepomembno; iščemo besedo ki se samo );\n",
        "\n",
        "term frequency *TF-IDF*- računamo kakšna je ponovitev possameznega uni/bi/tri-grama ; najbolj značilne besede za posamezno kategorijo;\n",
        "\n",
        "! ne delat predprocesiranja 2x"
      ],
      "metadata": {
        "id": "1RjNzXidmgBh"
      }
    },
    {
      "cell_type": "markdown",
      "source": [
        "delitev na vhodne podatke(predprocesirani podatki);\n",
        "\n",
        "izhod, napovedujemo kategorijo novice\n"
      ],
      "metadata": {
        "id": "klYQnDRfp2jB"
      }
    }
  ]
}