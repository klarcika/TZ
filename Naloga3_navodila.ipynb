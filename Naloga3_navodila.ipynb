{
  "cells": [
    {
      "cell_type": "markdown",
      "metadata": {
        "id": "view-in-github",
        "colab_type": "text"
      },
      "source": [
        "<a href=\"https://colab.research.google.com/github/klarcika/TZ/blob/main/Naloga3.ipynb\" target=\"_parent\"><img src=\"https://colab.research.google.com/assets/colab-badge.svg\" alt=\"Open In Colab\"/></a>"
      ]
    },
    {
      "cell_type": "markdown",
      "source": [
        "Naloga: Klasifikacija\n",
        "napovemo podatek, ki je kategoričen\n"
      ],
      "metadata": {
        "id": "vu1nrMOtHJnZ"
      }
    },
    {
      "cell_type": "code",
      "source": [
        "df=read_csv(\"nekaj.csv\")"
      ],
      "metadata": {
        "id": "zG8SuqJIKGB5"
      },
      "execution_count": null,
      "outputs": []
    },
    {
      "cell_type": "code",
      "source": [
        "#z datumise ne znamo, zato lahko ven zbrisemo stolpec\n",
        "df.drop(\"DateSolf\",axis=1, inplace=true)\n",
        "df.types\n",
        "#vcasih lahko imamo kategoricen podatek med stevilskim\n"
      ],
      "metadata": {
        "id": "DnTEVKweG5eM"
      },
      "execution_count": null,
      "outputs": []
    },
    {
      "cell_type": "code",
      "source": [
        "!pip install scikit-learn #je ze tu instalirano"
      ],
      "metadata": {
        "id": "TcQgFNqNJQ70"
      },
      "execution_count": null,
      "outputs": []
    },
    {
      "cell_type": "code",
      "source": [
        "!pip install sklearn-pandas==1.5.0 #je tudi ze"
      ],
      "metadata": {
        "id": "DQOnxvLZJXCE"
      },
      "execution_count": null,
      "outputs": []
    },
    {
      "cell_type": "code",
      "source": [
        "stevilski=[\"Rooms,...\"]"
      ],
      "metadata": {
        "id": "Otv_qvpDJkJ9"
      },
      "execution_count": 1,
      "outputs": []
    },
    {
      "cell_type": "code",
      "source": [
        "stevilski=df.select_dtypes(exclude=[\"object\"]).columns\n",
        "print(stevilski)\n",
        "kategoricni=df.select_dtypes(exclude=[\"float64\", \"int64\"]).columns\n",
        "print(kategoricni)"
      ],
      "metadata": {
        "id": "qZ5eVwZWJwvv"
      },
      "execution_count": null,
      "outputs": []
    },
    {
      "cell_type": "code",
      "source": [
        "#prazne vrednosti lahko nadomestimo\n",
        "from sklearn_pandas import CategoricalImputer #samo kategoricne\n",
        "from sklearn.impute import SimpleImputer #za kategoricne in stevilske podatke"
      ],
      "metadata": {
        "id": "_ueMTjIdKTX2"
      },
      "execution_count": null,
      "outputs": []
    },
    {
      "cell_type": "code",
      "source": [
        "\n",
        "import numpy as np #knjiznica za delo s stevili\n",
        "povprecje= SimpleImputer(missing_values=np.nan, strategy=\"mean\") #ce dopolnjujemo z stevilskimi, damo most_frequent\n",
        "df[stevilski]= povprecje.fit_transform(df[stevilski])\n",
        "#----------------\n",
        "najpogostejsi= SimpleImputer(missing_values=np.nan, strategy=\"most_frequent\") #ce dopolnjujemo z stevilskimi, damo most_frequent\n",
        "df[kategoricni]= najpogostejsi.fit_transform(df[kategoricni])\n"
      ],
      "metadata": {
        "id": "Eg2cDTGEME1s"
      },
      "execution_count": null,
      "outputs": []
    },
    {
      "cell_type": "code",
      "source": [
        "df.isnull().sum()\n",
        "#pred klasifikacijo ne smemo met manjkajocih; fajn je uporabit most frequent za kategoricne in povprecje za stevilske, odvisno kolko jih je\n"
      ],
      "metadata": {
        "id": "mdl1nRE4LFSN"
      },
      "execution_count": null,
      "outputs": []
    },
    {
      "cell_type": "code",
      "source": [
        "#predpogoj : podatke razdelimo na testne in ucne !!\n",
        "from sklearn.model_selection import train_test_split #y napovedujemo je kategoricen podatek\n",
        "#dolocimo in izhodne podatke\n",
        "izhod=\"Type\" #outcome\n",
        "vhod=[\"Rooms\", \"Bathroom\",\"CarSpots\", \"YearBuilt\",\"Price\" ]#predstavlja vec stolpcev, na podlagi cesa klasificiramo? keri so relevantni\n",
        "\n",
        "\n",
        "x_train,x_test, y_train, y_test= train_test_split(df[vhod], df[izhod], test_size=0.2, random_state=123)#radom state je naključna delitev\n",
        "x_train.shape"
      ],
      "metadata": {
        "id": "f_tdSClpMgbH"
      },
      "execution_count": 3,
      "outputs": []
    },
    {
      "cell_type": "code",
      "source": [
        "from sklearn.neighbors import KNeighborsClassifier\n",
        "knn= KNeighborsClassifier(n_neighbors=5) #določimo st sosedov\n",
        "knn.fit(x_train, y_train)#damo not ucne podatke\n",
        "rezultat=knn.predict(x_test)\n",
        "rezultati[:10]"
      ],
      "metadata": {
        "id": "SJ11QDJhRYTg"
      },
      "execution_count": null,
      "outputs": []
    },
    {
      "cell_type": "code",
      "source": [
        "#metrike s katerimi previrimo tocnost napovedi\n",
        "from sklearn import metrics\n",
        "print(metrics.accuracy_score(rezultat, y_test))"
      ],
      "metadata": {
        "id": "zBE0i6J9PEU-"
      },
      "execution_count": null,
      "outputs": []
    },
    {
      "cell_type": "code",
      "source": [
        "#kfold [[T][U][U][U]] imamo toliko iteracij, dokler nena vsak fold predstavlja testnih podatkov\n",
        "#s tem dosezemo da so rezultati bolj relevantni; so bolj stabilni in niso podvrzeni nakljucni delitvi\n",
        "from sklearn.tree import DecisionTreeClassifier\n",
        "\n",
        "klasifikatorji=[] #kako lahko vec klasifikatorjev naenkrat testiramo\n",
        "klasifikatorji.append(KNeighborsClassifier())\n",
        "klasifikatorji.append(DecisionTreeClassifier())\n",
        "print(len(klasifikatorji))"
      ],
      "metadata": {
        "id": "dJBgEVTCRFa-"
      },
      "execution_count": 5,
      "outputs": []
    },
    {
      "cell_type": "code",
      "source": [
        "from sklearn.model_selection import StratifiedGroupKFold, cross_val_score\n",
        "for k in klasifikatorji:\n",
        "  kfold=StratifiedGroupKFold(n_splits=10)\n",
        "  #stratificiran pomeni ko deli podatke na folde pazi da so izhodni podatki enako porazdeljeni/razmerje kot je v celotni zbirki\n",
        "  #vsak fold je obetzen na izhodne razrede\n",
        "  rez=cross_val_score(k, df[vhod], df[izhod], cv=kfold, scoring=\"accuracy\")\n",
        "print(rez)\n",
        "#ce zelimo dostopat do imena klasifikatorja uporabimo\n",
        "print((type(k)._name_, rez.mean())) #povprecje izpisemo, ker potem bi za vsak fold poseaj izpisalo; zato izpisemo povprecje vseh foldov"
      ],
      "metadata": {
        "id": "bVa3iYGKSQ3r"
      },
      "execution_count": null,
      "outputs": []
    },
    {
      "cell_type": "markdown",
      "source": [
        "podatke v tej nalogi si zdruzene podatke nalozimo v csv datoteko; pazi na izhodni/vhodni podatek!!\n",
        "svc pri enem algoritmu"
      ],
      "metadata": {
        "id": "44oADD6xUHdr"
      }
    },
    {
      "cell_type": "code",
      "source": [],
      "metadata": {
        "id": "2zf-UpK5UQpF"
      },
      "execution_count": null,
      "outputs": []
    }
  ],
  "metadata": {
    "colab": {
      "name": "Pozdravljeni v storitvi Colaboratory",
      "provenance": [],
      "include_colab_link": true
    },
    "kernelspec": {
      "display_name": "Python 3",
      "name": "python3"
    }
  },
  "nbformat": 4,
  "nbformat_minor": 0
}
