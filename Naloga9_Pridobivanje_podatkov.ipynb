{
  "nbformat": 4,
  "nbformat_minor": 0,
  "metadata": {
    "colab": {
      "provenance": [],
      "authorship_tag": "ABX9TyPfE2TzvVmFAttwexqNZnpj",
      "include_colab_link": true
    },
    "kernelspec": {
      "name": "python3",
      "display_name": "Python 3"
    },
    "language_info": {
      "name": "python"
    }
  },
  "cells": [
    {
      "cell_type": "markdown",
      "metadata": {
        "id": "view-in-github",
        "colab_type": "text"
      },
      "source": [
        "<a href=\"https://colab.research.google.com/github/klarcika/TZ/blob/main/Naloga9_Pridobivanje_podatkov.ipynb\" target=\"_parent\"><img src=\"https://colab.research.google.com/assets/colab-badge.svg\" alt=\"Open In Colab\"/></a>"
      ]
    },
    {
      "cell_type": "markdown",
      "source": [
        "Scraping data from Tripadvisor.\n",
        "Finding out which restaurants are rated the best and why\n"
      ],
      "metadata": {
        "id": "lk0F_HDt6CfI"
      }
    },
    {
      "cell_type": "code",
      "execution_count": 8,
      "metadata": {
        "id": "QIzTB8lc4pbU"
      },
      "outputs": [],
      "source": [
        "#!pip install Scrapy"
      ]
    },
    {
      "cell_type": "code",
      "source": [
        "import scrapy\n",
        "import re\n",
        "\n",
        "class MoviesSpider(scrapy.Spider):\n",
        "    name = \"movies_spider\"\n",
        "    allowed_domains = [\"imdb.com\"]\n",
        "    start_urls = [\"https://www.imdb.com/chart/top/?ref_=nv_mv_250\"]\n",
        "    custom_settings = {\n",
        "        'FEEDS': {\n",
        "            'restavracije.csv': {\n",
        "                'format': 'csv',\n",
        "                'overwrite': True\n",
        "            }\n",
        "        }\n",
        "    }\n",
        "\n",
        "    def parse(self, res):\n",
        "        vsi_filmi = res.css(\"ipc-metadata-list-summary-item\")\n",
        "        d = {}\n",
        "        for delo in vsi_filmi:\n",
        "            d[\"naziv\"] = delo.css(\"ipc-metadata-list-summary-item h3.ipc-title__text::text\").extract_first()\n",
        "            trajanje = delo.xpath(\"span[2]//text()\").extract_first()\n",
        "            d[\"trajanje\"] = re.sub(r\"[\\n\\t]*\", \"\", trajanje)\n",
        "            leto = delo.xpath(\"span[1]//text()\").extract_first()\n",
        "            d[\"leto\"] = re.sub(r\"[\\n\\t]*\", \"\", leto)\n",
        "            tip = delo.xpath(\"span[3]//text()\").extract_first()\n",
        "            d[\"tip\"] = re.sub(r\"[\\n\\t]*\", \"\", tip)\n",
        "\n",
        "            d[\"ocena\"] = delo.css(\"ipc-metadata-list-summary-item span.ipc-rating-star--imdb::text\").extract()\n",
        "            d[\"sestevek_ocen\"] = delo.css(\"ipc-metadata-list-summary-item span.ipc-rating-star--voteCount::text\").extract()\n",
        "            yield d\n",
        "\n",
        "\n",
        "# #to kodo smo napisali samo za 1 stran\n",
        "\n",
        "#   naslednje_strani= res.css(\"div.page-items s.page-link::text\").extract() #dostopamo do št. strani ki obstajajo, da pridobimo vse podatke\n",
        "#                                                              #extractamo cisto vse\n",
        "#   for naslednja in naslednje_strani:\n",
        "#     if (int(naslednja)<3):\n",
        "#       url_str=\"https://www.studentski-servis.com/studenti/prosta-dela/?page\"+naslednja\n",
        "#       yield scrapy.Request(url_str, callback=self.parse)\n",
        "# #gremo na stran ki smo jo dolicili na url-ju"
      ],
      "metadata": {
        "id": "YhcQB0Mi6xIK"
      },
      "execution_count": 9,
      "outputs": []
    },
    {
      "cell_type": "code",
      "source": [
        "from scrapy.crawler import CrawlerProcess\n",
        "\n",
        "proces= CrawlerProcess()\n",
        "proces.crawl(MoviesSpider)"
      ],
      "metadata": {
        "colab": {
          "base_uri": "https://localhost:8080/"
        },
        "id": "F-Ix7eev9-us",
        "outputId": "e83505a5-597b-4f34-cc16-90635490f03f"
      },
      "execution_count": 10,
      "outputs": [
        {
          "output_type": "stream",
          "name": "stderr",
          "text": [
            "INFO:scrapy.utils.log:Scrapy 2.11.0 started (bot: scrapybot)\n",
            "2023-12-05 21:46:38 [scrapy.utils.log] INFO: Scrapy 2.11.0 started (bot: scrapybot)\n",
            "INFO:scrapy.utils.log:Versions: lxml 4.9.3.0, libxml2 2.10.3, cssselect 1.2.0, parsel 1.8.1, w3lib 2.1.2, Twisted 22.10.0, Python 3.10.12 (main, Nov 20 2023, 15:14:05) [GCC 11.4.0], pyOpenSSL 23.3.0 (OpenSSL 3.1.4 24 Oct 2023), cryptography 41.0.7, Platform Linux-5.15.120+-x86_64-with-glibc2.35\n",
            "2023-12-05 21:46:38 [scrapy.utils.log] INFO: Versions: lxml 4.9.3.0, libxml2 2.10.3, cssselect 1.2.0, parsel 1.8.1, w3lib 2.1.2, Twisted 22.10.0, Python 3.10.12 (main, Nov 20 2023, 15:14:05) [GCC 11.4.0], pyOpenSSL 23.3.0 (OpenSSL 3.1.4 24 Oct 2023), cryptography 41.0.7, Platform Linux-5.15.120+-x86_64-with-glibc2.35\n",
            "INFO:scrapy.addons:Enabled addons:\n",
            "[]\n",
            "2023-12-05 21:46:38 [scrapy.addons] INFO: Enabled addons:\n",
            "[]\n",
            "DEBUG:scrapy.utils.log:Using reactor: twisted.internet.epollreactor.EPollReactor\n",
            "2023-12-05 21:46:38 [scrapy.utils.log] DEBUG: Using reactor: twisted.internet.epollreactor.EPollReactor\n",
            "INFO:scrapy.extensions.telnet:Telnet Password: 413cbef75d7c15c9\n",
            "2023-12-05 21:46:38 [scrapy.extensions.telnet] INFO: Telnet Password: 413cbef75d7c15c9\n",
            "INFO:scrapy.middleware:Enabled extensions:\n",
            "['scrapy.extensions.corestats.CoreStats',\n",
            " 'scrapy.extensions.telnet.TelnetConsole',\n",
            " 'scrapy.extensions.memusage.MemoryUsage',\n",
            " 'scrapy.extensions.feedexport.FeedExporter',\n",
            " 'scrapy.extensions.logstats.LogStats']\n",
            "2023-12-05 21:46:38 [scrapy.middleware] INFO: Enabled extensions:\n",
            "['scrapy.extensions.corestats.CoreStats',\n",
            " 'scrapy.extensions.telnet.TelnetConsole',\n",
            " 'scrapy.extensions.memusage.MemoryUsage',\n",
            " 'scrapy.extensions.feedexport.FeedExporter',\n",
            " 'scrapy.extensions.logstats.LogStats']\n",
            "INFO:scrapy.crawler:Overridden settings:\n",
            "{}\n",
            "2023-12-05 21:46:38 [scrapy.crawler] INFO: Overridden settings:\n",
            "{}\n",
            "INFO:scrapy.middleware:Enabled downloader middlewares:\n",
            "['scrapy.downloadermiddlewares.httpauth.HttpAuthMiddleware',\n",
            " 'scrapy.downloadermiddlewares.downloadtimeout.DownloadTimeoutMiddleware',\n",
            " 'scrapy.downloadermiddlewares.defaultheaders.DefaultHeadersMiddleware',\n",
            " 'scrapy.downloadermiddlewares.useragent.UserAgentMiddleware',\n",
            " 'scrapy.downloadermiddlewares.retry.RetryMiddleware',\n",
            " 'scrapy.downloadermiddlewares.redirect.MetaRefreshMiddleware',\n",
            " 'scrapy.downloadermiddlewares.httpcompression.HttpCompressionMiddleware',\n",
            " 'scrapy.downloadermiddlewares.redirect.RedirectMiddleware',\n",
            " 'scrapy.downloadermiddlewares.cookies.CookiesMiddleware',\n",
            " 'scrapy.downloadermiddlewares.httpproxy.HttpProxyMiddleware',\n",
            " 'scrapy.downloadermiddlewares.stats.DownloaderStats']\n",
            "2023-12-05 21:46:38 [scrapy.middleware] INFO: Enabled downloader middlewares:\n",
            "['scrapy.downloadermiddlewares.httpauth.HttpAuthMiddleware',\n",
            " 'scrapy.downloadermiddlewares.downloadtimeout.DownloadTimeoutMiddleware',\n",
            " 'scrapy.downloadermiddlewares.defaultheaders.DefaultHeadersMiddleware',\n",
            " 'scrapy.downloadermiddlewares.useragent.UserAgentMiddleware',\n",
            " 'scrapy.downloadermiddlewares.retry.RetryMiddleware',\n",
            " 'scrapy.downloadermiddlewares.redirect.MetaRefreshMiddleware',\n",
            " 'scrapy.downloadermiddlewares.httpcompression.HttpCompressionMiddleware',\n",
            " 'scrapy.downloadermiddlewares.redirect.RedirectMiddleware',\n",
            " 'scrapy.downloadermiddlewares.cookies.CookiesMiddleware',\n",
            " 'scrapy.downloadermiddlewares.httpproxy.HttpProxyMiddleware',\n",
            " 'scrapy.downloadermiddlewares.stats.DownloaderStats']\n",
            "INFO:scrapy.middleware:Enabled spider middlewares:\n",
            "['scrapy.spidermiddlewares.httperror.HttpErrorMiddleware',\n",
            " 'scrapy.spidermiddlewares.offsite.OffsiteMiddleware',\n",
            " 'scrapy.spidermiddlewares.referer.RefererMiddleware',\n",
            " 'scrapy.spidermiddlewares.urllength.UrlLengthMiddleware',\n",
            " 'scrapy.spidermiddlewares.depth.DepthMiddleware']\n",
            "2023-12-05 21:46:38 [scrapy.middleware] INFO: Enabled spider middlewares:\n",
            "['scrapy.spidermiddlewares.httperror.HttpErrorMiddleware',\n",
            " 'scrapy.spidermiddlewares.offsite.OffsiteMiddleware',\n",
            " 'scrapy.spidermiddlewares.referer.RefererMiddleware',\n",
            " 'scrapy.spidermiddlewares.urllength.UrlLengthMiddleware',\n",
            " 'scrapy.spidermiddlewares.depth.DepthMiddleware']\n",
            "INFO:scrapy.middleware:Enabled item pipelines:\n",
            "[]\n",
            "2023-12-05 21:46:38 [scrapy.middleware] INFO: Enabled item pipelines:\n",
            "[]\n",
            "INFO:scrapy.core.engine:Spider opened\n",
            "2023-12-05 21:46:38 [scrapy.core.engine] INFO: Spider opened\n",
            "INFO:scrapy.extensions.logstats:Crawled 0 pages (at 0 pages/min), scraped 0 items (at 0 items/min)\n",
            "2023-12-05 21:46:38 [scrapy.extensions.logstats] INFO: Crawled 0 pages (at 0 pages/min), scraped 0 items (at 0 items/min)\n",
            "INFO:scrapy.extensions.telnet:Telnet console listening on 127.0.0.1:6025\n",
            "2023-12-05 21:46:38 [scrapy.extensions.telnet] INFO: Telnet console listening on 127.0.0.1:6025\n"
          ]
        },
        {
          "output_type": "execute_result",
          "data": {
            "text/plain": [
              "<Deferred at 0x79b221efd5a0>"
            ]
          },
          "metadata": {},
          "execution_count": 10
        }
      ]
    }
  ]
}