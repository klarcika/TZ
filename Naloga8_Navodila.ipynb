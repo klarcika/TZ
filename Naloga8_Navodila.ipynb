{
  "nbformat": 4,
  "nbformat_minor": 0,
  "metadata": {
    "colab": {
      "provenance": [],
      "authorship_tag": "ABX9TyNeKWsOw+oLi3Wyrb9AowK+",
      "include_colab_link": true
    },
    "kernelspec": {
      "name": "python3",
      "display_name": "Python 3"
    },
    "language_info": {
      "name": "python"
    }
  },
  "cells": [
    {
      "cell_type": "markdown",
      "metadata": {
        "id": "view-in-github",
        "colab_type": "text"
      },
      "source": [
        "<a href=\"https://colab.research.google.com/github/klarcika/TZ/blob/main/Naloga8_Navodila.ipynb\" target=\"_parent\"><img src=\"https://colab.research.google.com/assets/colab-badge.svg\" alt=\"Open In Colab\"/></a>"
      ]
    },
    {
      "cell_type": "code",
      "execution_count": null,
      "metadata": {
        "id": "3idSIeXVqaWV"
      },
      "outputs": [],
      "source": [
        "#gručenje\n",
        "import pandas as pd\n",
        "df= read_csv(\"housing_predp.csv\")"
      ]
    },
    {
      "cell_type": "code",
      "source": [
        "stevilski=df.select_dtypes(exclude=[\"object\"]).columns\n",
        "df[stevilski]"
      ],
      "metadata": {
        "id": "hzOBiaeFqi9l"
      },
      "execution_count": null,
      "outputs": []
    },
    {
      "cell_type": "code",
      "source": [
        "st_gruc=2"
      ],
      "metadata": {
        "id": "KYtGPzD2q4rP"
      },
      "execution_count": 1,
      "outputs": []
    },
    {
      "cell_type": "code",
      "source": [
        "from sklearn.cluster import KMeans\n",
        "dfSt=df[stevilski]\n",
        "km= KMeans(n_clusters=st_gruc, random_state=0)\n",
        "km.fit(dfSt)\n",
        "km.labels_ #v katero gruco je razdelil prvih in zadnjih nekaj instanc"
      ],
      "metadata": {
        "id": "dFJD8zDDqsQH"
      },
      "execution_count": null,
      "outputs": []
    },
    {
      "cell_type": "code",
      "source": [
        "import collections\n",
        "collections.Counter(km.labels_) #preštejje koliko jih je v eni in koliko v dugi gruči"
      ],
      "metadata": {
        "id": "T0nmC2k5rI7_"
      },
      "execution_count": null,
      "outputs": []
    },
    {
      "cell_type": "code",
      "source": [
        "import seaborn as sns\n",
        "sns.relplot(x=\"Price\", y=\"YearBuild\", data=dfSt, hue=km.labels_, alpha=.8, height=6)#z hue obarvamo, treutno instance v gručo katero so bile razdeljene\n",
        "#upoštevamo katera delitev najbolj vpliva na dellitev gruče"
      ],
      "metadata": {
        "id": "Tv4e7zmera0l"
      },
      "execution_count": null,
      "outputs": []
    },
    {
      "cell_type": "code",
      "source": [
        "sns.relplot(x=\"DistanceFromCenter\", y=\"YearBuild\", data=dfSt, hue=km.labels_, alpha=.8, height=6)#z hue obarvamo, treutno instance v gručo katero so bile razdeljene"
      ],
      "metadata": {
        "id": "SDrXqEsXsO9A"
      },
      "execution_count": null,
      "outputs": []
    },
    {
      "cell_type": "code",
      "source": [
        "#kaj pa če bi dodali vse podatke not, pri gručenju lahko pokažemo razmerja med vsemi podatki => uporabimo dekompozicijo nasih podatkov\n",
        "from sklearn.decomposition import FastICA#vse stolpce bomo prikazali znotraj enega grafa=> celoten dataset spremenimo v 2 stolpca\n",
        "tr=FastICA(n_components=2).fit_transform(dfSt) #kot izhod 2 stolpca\n",
        "#! slabost ne obdrži strukture dataframe-a\n",
        "dfTr=pd.DataFrame(tr, columns=(\"col1\", \"col2\"))\n",
        "dfTr.head()"
      ],
      "metadata": {
        "id": "bNeoqf7Vsok-"
      },
      "execution_count": null,
      "outputs": []
    },
    {
      "cell_type": "code",
      "source": [
        "sns.relplot(x=\"col1\", y=\"col2\", data=dfTr, hue=km.labels_, alpha=.8, height=6) #km.labels_ <- je še netransformirani podatki"
      ],
      "metadata": {
        "id": "vmXbFz_Ctkk_"
      },
      "execution_count": null,
      "outputs": []
    },
    {
      "cell_type": "code",
      "source": [
        "#še 1x naredimo gručenje nad transformiranimi podatki\n",
        "from sklearn.cluster import KMeans\n",
        "dfSt=df[stevilski]\n",
        "km= KMeans(n_clusters=3, random_state=0)\n",
        "km.fit(dfSt)\n",
        "km.labels_ #v katero gruco je razdelil prvih in zadnjih nekaj instanc"
      ],
      "metadata": {
        "id": "DdgRHgEhtqVC"
      },
      "execution_count": null,
      "outputs": []
    },
    {
      "cell_type": "code",
      "source": [
        "#še enkrat izrisemo graf\n",
        "sns.relplot(x=\"col1\", y=\"col2\", data=dfTr, hue=km.labels_, alpha=.8, height=6) #km.labels_ <- je še netransformirani podatki\n"
      ],
      "metadata": {
        "id": "YaXEjKwVt_Fb"
      },
      "execution_count": null,
      "outputs": []
    },
    {
      "cell_type": "code",
      "source": [
        "#če se hocemo odlocit na koliko gruc naj delimo\n",
        "v_in={} #inercija je razdalja med gručo in njenim razdelkom\n",
        "for i in range(1,10):#testiramo katero deljenje gruc bi bilo najbolj primerno\n",
        "  km2=KMeans(n_clusters=i, random_state=0, n_init=\"auto\")\n",
        "  km2.fit(dfTr)\n",
        "  v_in[i]=km2.inertia_ #shranimo  dictionary, imamo vrednost: ključ"
      ],
      "metadata": {
        "id": "E6xFgWJguYF-"
      },
      "execution_count": null,
      "outputs": []
    },
    {
      "cell_type": "code",
      "source": [
        "import matplotlib.pyplot as plt\n",
        "sns.lineplot(x= list(v_in.keys()), y=list(v_in.values()))\n",
        "plt.ylabel(\"inercija\")\n",
        "plt.xlabel(\"število gruč\")\n",
        "#kako se na podlagi grafa odlocimo katera delitev je najboljsa\n",
        "#pravilo komolca - gledamo prvi večji prelom in tam je najbolj optimalno št. gruč\n",
        "#zakaj ne vzamemo 9, ko je blizu 0 => ker bi bila vsaka instanca v svoji gruči\n",
        "#iščemo st gruc ki nam bo pomensko razdelilo instance"
      ],
      "metadata": {
        "id": "6J6UrUv_vGqN"
      },
      "execution_count": null,
      "outputs": []
    },
    {
      "cell_type": "code",
      "source": [
        "#lahko pa si pomagamo tudi z dendrogramom\n",
        "#računamo razdalje, ki jih uporabimo znotraj dendrograma=> razdalje med različnimi gručami\n",
        "from scipy.cluster.hierarchy import linkage, dendrogram\n",
        "razdalje=linkage(dfSt, \"single\")\n",
        "dendrogram(razdalje, orientation=\"top\", p=5, turncate_mode=\"level\")\n",
        "          #navpičen, vodoraven; do katerega nivoja ga razgradimo\n",
        "#dolžina črte predstavlja razdaljo med gručami\n",
        "#številke na x osi spodaj predstavlja št primerkov;\n",
        "#številka v oklepaju (x) predstavlja, da je v tej gruči samo ena instanca in tista (x) , x=id"
      ],
      "metadata": {
        "id": "h5qa_lXRwqfd"
      },
      "execution_count": null,
      "outputs": []
    }
  ]
}