{
  "cells": [
    {
      "cell_type": "markdown",
      "metadata": {
        "id": "view-in-github",
        "colab_type": "text"
      },
      "source": [
        "<a href=\"https://colab.research.google.com/github/klarcika/TZ/blob/main/Naloga2_navodila.ipynb\" target=\"_parent\"><img src=\"https://colab.research.google.com/assets/colab-badge.svg\" alt=\"Open In Colab\"/></a>"
      ]
    },
    {
      "cell_type": "code",
      "source": [
        "import pandas as pd"
      ],
      "metadata": {
        "id": "K38zHkowEFZ1"
      },
      "execution_count": null,
      "outputs": []
    },
    {
      "cell_type": "code",
      "source": [
        "df_char= pd.read_csv(\"housing_char.csv\", index_col=\"Adress\", sep=\"\\t\", decimal=\".\")\n",
        "df_char.head(3)"
      ],
      "metadata": {
        "id": "k46U2UsoQFDo"
      },
      "execution_count": null,
      "outputs": []
    },
    {
      "cell_type": "code",
      "source": [
        "df_char.shape #izpisemo stevilo stlpcev in vrstic"
      ],
      "metadata": {
        "id": "Q4FvGjvJQL4v"
      },
      "execution_count": null,
      "outputs": []
    },
    {
      "cell_type": "code",
      "source": [
        "de_char.iloc[0] #ipisemo prvo vrstico"
      ],
      "metadata": {
        "id": "LTN3OJnFGLWj"
      },
      "execution_count": null,
      "outputs": []
    },
    {
      "cell_type": "code",
      "source": [
        "df_char.describe() #prikaze content nase zbirke"
      ],
      "metadata": {
        "id": "dTwtnSASGVaf"
      },
      "execution_count": null,
      "outputs": []
    },
    {
      "cell_type": "code",
      "source": [
        "pd.value_counts(df_char[\"Type\"]) #prestejemo koliko je kategoricnih vrednosti\n",
        "#npr preverimo koliko je st his\n",
        "#razlicne vrednosti za sobe\n",
        "df_char[\"Rooms\"].unique()\n"
      ],
      "metadata": {
        "id": "sdA6JrEgGfS7"
      },
      "execution_count": null,
      "outputs": []
    },
    {
      "cell_type": "code",
      "source": [
        "#2. primer datoteke\n",
        "df_location= pd.read_csv(\"housing_location.csv\", index_col=\"Adress\", sep=\"\\t\", decimal=\";\")\n",
        "df_location.head(3)"
      ],
      "metadata": {
        "id": "RIbKp_0yHD5H"
      },
      "execution_count": null,
      "outputs": []
    },
    {
      "cell_type": "code",
      "source": [
        "df_location.shape()"
      ],
      "metadata": {
        "id": "ilMF_wX1HklX"
      },
      "execution_count": null,
      "outputs": []
    },
    {
      "cell_type": "code",
      "source": [
        "#3. primer excel datoteka\n",
        "df_sell= pd.read_excel(\"housing_sell.xlsx\", index_col=0, sep=\"\\t\", sheet_name=0)\n",
        "df_sell.head(3)\n",
        "df_sell.dtypes #preverimo kaksne atribute ima dataframe\n",
        "#object pretvori v date\n",
        "df=pd.concat([df_char, df_location,df_sell], axis=1) #zdruzevanje 3 df, z axsis povemo ali zdruzujemo po\n",
        "#stolpcih(axis=1 ;dodajali se bojo samo stolpci) ali vrsticah(axis=0, vrstice se samo dodajo in so tam samo NaN vrednosti)"
      ],
      "metadata": {
        "id": "nXWTdsu-HohV"
      },
      "execution_count": null,
      "outputs": []
    },
    {
      "cell_type": "code",
      "source": [
        "df_char.drop() #brisanje stolpcev\n",
        "df.iloc[5:10, 2:4] #omejimo izpis podatkov\n",
        "df.drop_duplicates(inplace= True) #izbrisemo podvojene zapise v df\n",
        "df.isnull().sum()#prverimo ce je kaj mankajocih vredosnti"
      ],
      "metadata": {
        "id": "bUK8f7LbJH2s"
      },
      "execution_count": null,
      "outputs": []
    },
    {
      "cell_type": "code",
      "source": [
        "#da se mankajocih vrednostih znebimo\n",
        "brez_Nan= df.dropna(axis=0) #vedno brissemo vrstice, ce imamo mankajoce vrednosti\n",
        "#dopolnjevanje manjkajocih podatkov\n",
        "df[\"Batthroom\"].fillna(0, inplace=True) #inplace damo zato da ne rabimo se enkrat priredit df= df. ...\n",
        "#povprecna vrednost\n",
        "df[\"CaarSpots\"].fillna(df[\"CaarSpots\"].mean(), inplace=True)"
      ],
      "metadata": {
        "id": "iXhjoE7BJHOt"
      },
      "execution_count": null,
      "outputs": []
    },
    {
      "cell_type": "code",
      "source": [
        "df_trisobno= df[df[\"Rooms\"]==3] #izpise trisobna stanovanja\n",
        "#omejen anbor stolpcev\n",
        "df_trisobno= df_trisobno[[\"Type\", \"Rooms\" ,\"bathroom\" ,\"CarSopt\"]] #not apismo tiste ki jih zelimo obdrzat"
      ],
      "metadata": {
        "id": "e2zGUbxfLeRo"
      },
      "execution_count": null,
      "outputs": []
    },
    {
      "cell_type": "code",
      "source": [
        "df_trisobno.groupby(\"Type\").mean() #grupiramo po povprecni vrednosti, lahko uporabimo min()\n",
        "df_trisobno[\"Rooms\"].sort_values #uredimo stolpce"
      ],
      "metadata": {
        "id": "5Hq0tbO3L-r0"
      },
      "execution_count": null,
      "outputs": []
    },
    {
      "cell_type": "code",
      "source": [
        "import seaborn as sns #za vizualizacijo\n",
        "#histogram izpisujemo nad nekategoricnimi podatki\n",
        "sns.distplot(df.Price) #izrisemo graf za neke stevilske vr\n",
        "sns.distplot(df.Price, kde=False) #izrisemo graf brez crte\n",
        "sns.distplot(df.Price, kde=False, his=False) #zbrisemo stolpce\n"
      ],
      "metadata": {
        "id": "hMnNAtDoMkts"
      },
      "execution_count": null,
      "outputs": []
    },
    {
      "cell_type": "code",
      "source": [
        "sns.lmplot(x= \"Price\", y =\"Rooms\", data= df)"
      ],
      "metadata": {
        "id": "Ezk8e1hvNOkg"
      },
      "execution_count": null,
      "outputs": []
    },
    {
      "cell_type": "code",
      "source": [
        "corr= df.corr() #zracunamo korelacije\n",
        "sns.heatmap(corr) #heatmap pikazuje v kaksni korelaciji so posamezne spremenljivke\n",
        "#ce je korelacija v minusu pomeni da je nasprotna\n"
      ],
      "metadata": {
        "id": "kuTXAYLrNnHX"
      },
      "execution_count": null,
      "outputs": []
    },
    {
      "cell_type": "code",
      "source": [
        "sns.countplot(x=\"Type\",y=\"Rooms\", data=df) #zdruzujemo kategoricne in stevilske podatke, lahko dodamo tudi samo x os, brez y\n",
        "sns.scatterplot(x=\"Price\", data= df) #lahko dodamo 2 stevilski , lahko uporabimo za stevilske in kategoricne"
      ],
      "metadata": {
        "id": "xVfE_AkDOM5I"
      },
      "execution_count": null,
      "outputs": []
    }
  ],
  "metadata": {
    "colab": {
      "name": "Pozdravljeni v storitvi Colaboratory",
      "provenance": [],
      "include_colab_link": true
    },
    "kernelspec": {
      "display_name": "Python 3",
      "name": "python3"
    }
  },
  "nbformat": 4,
  "nbformat_minor": 0
}