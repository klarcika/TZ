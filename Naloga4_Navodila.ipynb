{
  "nbformat": 4,
  "nbformat_minor": 0,
  "metadata": {
    "colab": {
      "provenance": [],
      "authorship_tag": "ABX9TyPlk/1hkggsLdd+q8tPpb0A",
      "include_colab_link": true
    },
    "kernelspec": {
      "name": "python3",
      "display_name": "Python 3"
    },
    "language_info": {
      "name": "python"
    }
  },
  "cells": [
    {
      "cell_type": "markdown",
      "metadata": {
        "id": "view-in-github",
        "colab_type": "text"
      },
      "source": [
        "<a href=\"https://colab.research.google.com/github/klarcika/TZ/blob/main/Naloga4_Navodila.ipynb\" target=\"_parent\"><img src=\"https://colab.research.google.com/assets/colab-badge.svg\" alt=\"Open In Colab\"/></a>"
      ]
    },
    {
      "cell_type": "code",
      "execution_count": 5,
      "metadata": {
        "colab": {
          "base_uri": "https://localhost:8080/"
        },
        "id": "owxDIregI7Bx",
        "outputId": "f9c73415-dd55-462d-92cf-7df9b58a5213"
      },
      "outputs": [
        {
          "output_type": "execute_result",
          "data": {
            "text/plain": [
              "Unnamed: 0             object\n",
              "Type                   object\n",
              "Rooms                 float64\n",
              "Bathroom              float64\n",
              "CarSpots              float64\n",
              "Landsize              float64\n",
              "BuildingArea          float64\n",
              "YearBuilt             float64\n",
              "Price                 float64\n",
              "SellerG                object\n",
              "Suburb                 object\n",
              "DistanceFromCenter    float64\n",
              "Lattitude             float64\n",
              "Longtitude            float64\n",
              "Regionname             object\n",
              "dtype: object"
            ]
          },
          "metadata": {},
          "execution_count": 5
        }
      ],
      "source": [
        "import pandas as pd\n",
        "df= pd.read_csv(\"housing_brez_nan.csv\")\n",
        "df.dtypes"
      ]
    },
    {
      "cell_type": "code",
      "source": [
        "#spremenimmo kategoricne podatke v stevilske\n",
        "#label encoder li dummy vrednosti\n",
        "from sklearn.preprocessing import LabelEncoder\n",
        "df1=df.copy(deep=True)\n",
        "#dolocimo katrgoricne podatke; izhodnih podatkov ne spreminjamo v številske\n",
        "kat= [\"SellerG\",\"Suburb\", \"Regionname\"];\n",
        "for k in kat:\n",
        "  df1[k]=LabelEncoder().fit_transform(df1[k])\n",
        "\n",
        "df1.head()"
      ],
      "metadata": {
        "colab": {
          "base_uri": "https://localhost:8080/",
          "height": 295
        },
        "id": "qt7QIFJuLTmd",
        "outputId": "ad5fd8ca-e75b-4322-cf0e-fce1b4935daa"
      },
      "execution_count": 7,
      "outputs": [
        {
          "output_type": "execute_result",
          "data": {
            "text/plain": [
              "         Unnamed: 0   Type  Rooms  Bathroom  CarSpots    Landsize  \\\n",
              "0  1 Abercrombie St  house    4.0  2.000000  2.000000  596.000000   \n",
              "1   1 Aberfeldie Wy  house    5.0  3.000000  2.000000  588.584711   \n",
              "2      1 Acheron Av  house    3.0  1.608363  1.701148  588.584711   \n",
              "3       1 Adelle Ct  house    3.0  2.000000  2.000000  820.000000   \n",
              "4      1 Aintree Rd  house    4.0  3.000000  4.000000  349.000000   \n",
              "\n",
              "   BuildingArea    YearBuilt         Price  SellerG  Suburb  \\\n",
              "0    161.000000  1980.000000  1.046312e+06      200     246   \n",
              "1    217.000000  2005.000000  6.800000e+05       22      68   \n",
              "2    158.274673  1965.475409  8.900000e+05      323     263   \n",
              "3    158.274673  1965.475409  1.700000e+06       22     112   \n",
              "4    158.274673  1965.475409  1.046312e+06      200     150   \n",
              "\n",
              "   DistanceFromCenter  Lattitude  Longtitude  Regionname  \n",
              "0                14.7 -37.932000  145.082700           4  \n",
              "1                14.8 -37.727050  144.748560           6  \n",
              "2                12.0 -37.811555  145.001695           2  \n",
              "3                13.9 -37.780300  145.124800           0  \n",
              "4                 9.2 -37.858000  145.043300           5  "
            ],
            "text/html": [
              "\n",
              "  <div id=\"df-2029b60c-8315-485a-a224-18f31c046fca\" class=\"colab-df-container\">\n",
              "    <div>\n",
              "<style scoped>\n",
              "    .dataframe tbody tr th:only-of-type {\n",
              "        vertical-align: middle;\n",
              "    }\n",
              "\n",
              "    .dataframe tbody tr th {\n",
              "        vertical-align: top;\n",
              "    }\n",
              "\n",
              "    .dataframe thead th {\n",
              "        text-align: right;\n",
              "    }\n",
              "</style>\n",
              "<table border=\"1\" class=\"dataframe\">\n",
              "  <thead>\n",
              "    <tr style=\"text-align: right;\">\n",
              "      <th></th>\n",
              "      <th>Unnamed: 0</th>\n",
              "      <th>Type</th>\n",
              "      <th>Rooms</th>\n",
              "      <th>Bathroom</th>\n",
              "      <th>CarSpots</th>\n",
              "      <th>Landsize</th>\n",
              "      <th>BuildingArea</th>\n",
              "      <th>YearBuilt</th>\n",
              "      <th>Price</th>\n",
              "      <th>SellerG</th>\n",
              "      <th>Suburb</th>\n",
              "      <th>DistanceFromCenter</th>\n",
              "      <th>Lattitude</th>\n",
              "      <th>Longtitude</th>\n",
              "      <th>Regionname</th>\n",
              "    </tr>\n",
              "  </thead>\n",
              "  <tbody>\n",
              "    <tr>\n",
              "      <th>0</th>\n",
              "      <td>1 Abercrombie St</td>\n",
              "      <td>house</td>\n",
              "      <td>4.0</td>\n",
              "      <td>2.000000</td>\n",
              "      <td>2.000000</td>\n",
              "      <td>596.000000</td>\n",
              "      <td>161.000000</td>\n",
              "      <td>1980.000000</td>\n",
              "      <td>1.046312e+06</td>\n",
              "      <td>200</td>\n",
              "      <td>246</td>\n",
              "      <td>14.7</td>\n",
              "      <td>-37.932000</td>\n",
              "      <td>145.082700</td>\n",
              "      <td>4</td>\n",
              "    </tr>\n",
              "    <tr>\n",
              "      <th>1</th>\n",
              "      <td>1 Aberfeldie Wy</td>\n",
              "      <td>house</td>\n",
              "      <td>5.0</td>\n",
              "      <td>3.000000</td>\n",
              "      <td>2.000000</td>\n",
              "      <td>588.584711</td>\n",
              "      <td>217.000000</td>\n",
              "      <td>2005.000000</td>\n",
              "      <td>6.800000e+05</td>\n",
              "      <td>22</td>\n",
              "      <td>68</td>\n",
              "      <td>14.8</td>\n",
              "      <td>-37.727050</td>\n",
              "      <td>144.748560</td>\n",
              "      <td>6</td>\n",
              "    </tr>\n",
              "    <tr>\n",
              "      <th>2</th>\n",
              "      <td>1 Acheron Av</td>\n",
              "      <td>house</td>\n",
              "      <td>3.0</td>\n",
              "      <td>1.608363</td>\n",
              "      <td>1.701148</td>\n",
              "      <td>588.584711</td>\n",
              "      <td>158.274673</td>\n",
              "      <td>1965.475409</td>\n",
              "      <td>8.900000e+05</td>\n",
              "      <td>323</td>\n",
              "      <td>263</td>\n",
              "      <td>12.0</td>\n",
              "      <td>-37.811555</td>\n",
              "      <td>145.001695</td>\n",
              "      <td>2</td>\n",
              "    </tr>\n",
              "    <tr>\n",
              "      <th>3</th>\n",
              "      <td>1 Adelle Ct</td>\n",
              "      <td>house</td>\n",
              "      <td>3.0</td>\n",
              "      <td>2.000000</td>\n",
              "      <td>2.000000</td>\n",
              "      <td>820.000000</td>\n",
              "      <td>158.274673</td>\n",
              "      <td>1965.475409</td>\n",
              "      <td>1.700000e+06</td>\n",
              "      <td>22</td>\n",
              "      <td>112</td>\n",
              "      <td>13.9</td>\n",
              "      <td>-37.780300</td>\n",
              "      <td>145.124800</td>\n",
              "      <td>0</td>\n",
              "    </tr>\n",
              "    <tr>\n",
              "      <th>4</th>\n",
              "      <td>1 Aintree Rd</td>\n",
              "      <td>house</td>\n",
              "      <td>4.0</td>\n",
              "      <td>3.000000</td>\n",
              "      <td>4.000000</td>\n",
              "      <td>349.000000</td>\n",
              "      <td>158.274673</td>\n",
              "      <td>1965.475409</td>\n",
              "      <td>1.046312e+06</td>\n",
              "      <td>200</td>\n",
              "      <td>150</td>\n",
              "      <td>9.2</td>\n",
              "      <td>-37.858000</td>\n",
              "      <td>145.043300</td>\n",
              "      <td>5</td>\n",
              "    </tr>\n",
              "  </tbody>\n",
              "</table>\n",
              "</div>\n",
              "    <div class=\"colab-df-buttons\">\n",
              "\n",
              "  <div class=\"colab-df-container\">\n",
              "    <button class=\"colab-df-convert\" onclick=\"convertToInteractive('df-2029b60c-8315-485a-a224-18f31c046fca')\"\n",
              "            title=\"Convert this dataframe to an interactive table.\"\n",
              "            style=\"display:none;\">\n",
              "\n",
              "  <svg xmlns=\"http://www.w3.org/2000/svg\" height=\"24px\" viewBox=\"0 -960 960 960\">\n",
              "    <path d=\"M120-120v-720h720v720H120Zm60-500h600v-160H180v160Zm220 220h160v-160H400v160Zm0 220h160v-160H400v160ZM180-400h160v-160H180v160Zm440 0h160v-160H620v160ZM180-180h160v-160H180v160Zm440 0h160v-160H620v160Z\"/>\n",
              "  </svg>\n",
              "    </button>\n",
              "\n",
              "  <style>\n",
              "    .colab-df-container {\n",
              "      display:flex;\n",
              "      gap: 12px;\n",
              "    }\n",
              "\n",
              "    .colab-df-convert {\n",
              "      background-color: #E8F0FE;\n",
              "      border: none;\n",
              "      border-radius: 50%;\n",
              "      cursor: pointer;\n",
              "      display: none;\n",
              "      fill: #1967D2;\n",
              "      height: 32px;\n",
              "      padding: 0 0 0 0;\n",
              "      width: 32px;\n",
              "    }\n",
              "\n",
              "    .colab-df-convert:hover {\n",
              "      background-color: #E2EBFA;\n",
              "      box-shadow: 0px 1px 2px rgba(60, 64, 67, 0.3), 0px 1px 3px 1px rgba(60, 64, 67, 0.15);\n",
              "      fill: #174EA6;\n",
              "    }\n",
              "\n",
              "    .colab-df-buttons div {\n",
              "      margin-bottom: 4px;\n",
              "    }\n",
              "\n",
              "    [theme=dark] .colab-df-convert {\n",
              "      background-color: #3B4455;\n",
              "      fill: #D2E3FC;\n",
              "    }\n",
              "\n",
              "    [theme=dark] .colab-df-convert:hover {\n",
              "      background-color: #434B5C;\n",
              "      box-shadow: 0px 1px 3px 1px rgba(0, 0, 0, 0.15);\n",
              "      filter: drop-shadow(0px 1px 2px rgba(0, 0, 0, 0.3));\n",
              "      fill: #FFFFFF;\n",
              "    }\n",
              "  </style>\n",
              "\n",
              "    <script>\n",
              "      const buttonEl =\n",
              "        document.querySelector('#df-2029b60c-8315-485a-a224-18f31c046fca button.colab-df-convert');\n",
              "      buttonEl.style.display =\n",
              "        google.colab.kernel.accessAllowed ? 'block' : 'none';\n",
              "\n",
              "      async function convertToInteractive(key) {\n",
              "        const element = document.querySelector('#df-2029b60c-8315-485a-a224-18f31c046fca');\n",
              "        const dataTable =\n",
              "          await google.colab.kernel.invokeFunction('convertToInteractive',\n",
              "                                                    [key], {});\n",
              "        if (!dataTable) return;\n",
              "\n",
              "        const docLinkHtml = 'Like what you see? Visit the ' +\n",
              "          '<a target=\"_blank\" href=https://colab.research.google.com/notebooks/data_table.ipynb>data table notebook</a>'\n",
              "          + ' to learn more about interactive tables.';\n",
              "        element.innerHTML = '';\n",
              "        dataTable['output_type'] = 'display_data';\n",
              "        await google.colab.output.renderOutput(dataTable, element);\n",
              "        const docLink = document.createElement('div');\n",
              "        docLink.innerHTML = docLinkHtml;\n",
              "        element.appendChild(docLink);\n",
              "      }\n",
              "    </script>\n",
              "  </div>\n",
              "\n",
              "\n",
              "<div id=\"df-37701e6a-e584-4114-9487-0ddc37ab08c8\">\n",
              "  <button class=\"colab-df-quickchart\" onclick=\"quickchart('df-37701e6a-e584-4114-9487-0ddc37ab08c8')\"\n",
              "            title=\"Suggest charts.\"\n",
              "            style=\"display:none;\">\n",
              "\n",
              "<svg xmlns=\"http://www.w3.org/2000/svg\" height=\"24px\"viewBox=\"0 0 24 24\"\n",
              "     width=\"24px\">\n",
              "    <g>\n",
              "        <path d=\"M19 3H5c-1.1 0-2 .9-2 2v14c0 1.1.9 2 2 2h14c1.1 0 2-.9 2-2V5c0-1.1-.9-2-2-2zM9 17H7v-7h2v7zm4 0h-2V7h2v10zm4 0h-2v-4h2v4z\"/>\n",
              "    </g>\n",
              "</svg>\n",
              "  </button>\n",
              "\n",
              "<style>\n",
              "  .colab-df-quickchart {\n",
              "      --bg-color: #E8F0FE;\n",
              "      --fill-color: #1967D2;\n",
              "      --hover-bg-color: #E2EBFA;\n",
              "      --hover-fill-color: #174EA6;\n",
              "      --disabled-fill-color: #AAA;\n",
              "      --disabled-bg-color: #DDD;\n",
              "  }\n",
              "\n",
              "  [theme=dark] .colab-df-quickchart {\n",
              "      --bg-color: #3B4455;\n",
              "      --fill-color: #D2E3FC;\n",
              "      --hover-bg-color: #434B5C;\n",
              "      --hover-fill-color: #FFFFFF;\n",
              "      --disabled-bg-color: #3B4455;\n",
              "      --disabled-fill-color: #666;\n",
              "  }\n",
              "\n",
              "  .colab-df-quickchart {\n",
              "    background-color: var(--bg-color);\n",
              "    border: none;\n",
              "    border-radius: 50%;\n",
              "    cursor: pointer;\n",
              "    display: none;\n",
              "    fill: var(--fill-color);\n",
              "    height: 32px;\n",
              "    padding: 0;\n",
              "    width: 32px;\n",
              "  }\n",
              "\n",
              "  .colab-df-quickchart:hover {\n",
              "    background-color: var(--hover-bg-color);\n",
              "    box-shadow: 0 1px 2px rgba(60, 64, 67, 0.3), 0 1px 3px 1px rgba(60, 64, 67, 0.15);\n",
              "    fill: var(--button-hover-fill-color);\n",
              "  }\n",
              "\n",
              "  .colab-df-quickchart-complete:disabled,\n",
              "  .colab-df-quickchart-complete:disabled:hover {\n",
              "    background-color: var(--disabled-bg-color);\n",
              "    fill: var(--disabled-fill-color);\n",
              "    box-shadow: none;\n",
              "  }\n",
              "\n",
              "  .colab-df-spinner {\n",
              "    border: 2px solid var(--fill-color);\n",
              "    border-color: transparent;\n",
              "    border-bottom-color: var(--fill-color);\n",
              "    animation:\n",
              "      spin 1s steps(1) infinite;\n",
              "  }\n",
              "\n",
              "  @keyframes spin {\n",
              "    0% {\n",
              "      border-color: transparent;\n",
              "      border-bottom-color: var(--fill-color);\n",
              "      border-left-color: var(--fill-color);\n",
              "    }\n",
              "    20% {\n",
              "      border-color: transparent;\n",
              "      border-left-color: var(--fill-color);\n",
              "      border-top-color: var(--fill-color);\n",
              "    }\n",
              "    30% {\n",
              "      border-color: transparent;\n",
              "      border-left-color: var(--fill-color);\n",
              "      border-top-color: var(--fill-color);\n",
              "      border-right-color: var(--fill-color);\n",
              "    }\n",
              "    40% {\n",
              "      border-color: transparent;\n",
              "      border-right-color: var(--fill-color);\n",
              "      border-top-color: var(--fill-color);\n",
              "    }\n",
              "    60% {\n",
              "      border-color: transparent;\n",
              "      border-right-color: var(--fill-color);\n",
              "    }\n",
              "    80% {\n",
              "      border-color: transparent;\n",
              "      border-right-color: var(--fill-color);\n",
              "      border-bottom-color: var(--fill-color);\n",
              "    }\n",
              "    90% {\n",
              "      border-color: transparent;\n",
              "      border-bottom-color: var(--fill-color);\n",
              "    }\n",
              "  }\n",
              "</style>\n",
              "\n",
              "  <script>\n",
              "    async function quickchart(key) {\n",
              "      const quickchartButtonEl =\n",
              "        document.querySelector('#' + key + ' button');\n",
              "      quickchartButtonEl.disabled = true;  // To prevent multiple clicks.\n",
              "      quickchartButtonEl.classList.add('colab-df-spinner');\n",
              "      try {\n",
              "        const charts = await google.colab.kernel.invokeFunction(\n",
              "            'suggestCharts', [key], {});\n",
              "      } catch (error) {\n",
              "        console.error('Error during call to suggestCharts:', error);\n",
              "      }\n",
              "      quickchartButtonEl.classList.remove('colab-df-spinner');\n",
              "      quickchartButtonEl.classList.add('colab-df-quickchart-complete');\n",
              "    }\n",
              "    (() => {\n",
              "      let quickchartButtonEl =\n",
              "        document.querySelector('#df-37701e6a-e584-4114-9487-0ddc37ab08c8 button');\n",
              "      quickchartButtonEl.style.display =\n",
              "        google.colab.kernel.accessAllowed ? 'block' : 'none';\n",
              "    })();\n",
              "  </script>\n",
              "</div>\n",
              "    </div>\n",
              "  </div>\n"
            ]
          },
          "metadata": {},
          "execution_count": 7
        }
      ]
    },
    {
      "cell_type": "code",
      "source": [
        "#kategoricnim ne dodajamo stevilskih vrednostih, ker jih lahko sestevamo\n",
        "#na primer :\n",
        "#modra->1\n",
        "#rdeca->2\n",
        "#zelena->3"
      ],
      "metadata": {
        "id": "-sPG15P7Mic0"
      },
      "execution_count": 9,
      "outputs": []
    },
    {
      "cell_type": "code",
      "source": [
        "#2. nacin spreminjanja\n",
        "df2= pd.get_dummies(df, columns=kat)\n",
        "df2.shape"
      ],
      "metadata": {
        "colab": {
          "base_uri": "https://localhost:8080/"
        },
        "id": "1wG3DSzcMr_Q",
        "outputId": "37cdca11-950b-4d5c-bfa4-2a4e11115899"
      },
      "execution_count": 13,
      "outputs": [
        {
          "output_type": "execute_result",
          "data": {
            "text/plain": [
              "(30718, 703)"
            ]
          },
          "metadata": {},
          "execution_count": 13
        }
      ]
    },
    {
      "cell_type": "code",
      "source": [
        "# ce uporabimo get dummies nam bo naredilo dodatne stolpce\n",
        "# in ce se te vrednsti pojavijo dobijo vrednosti 0 ali 1\n",
        "\n",
        "from sklearn.neighbors import KNeighborsClassifier\n",
        "from sklearn.model_selection import cross_val_score, StratifiedKFold\n",
        "izhod=\"Type\"\n",
        "df_izhod=df1[\"Type\"]\n",
        "df_vhod= df1.drop(izhod, axis=1)\n",
        "\n",
        "kfold=StratifiedKFold(n_splits=5)\n",
        "rezultat= cross_val_score(KNeighborsClassifier(n_neighbors==5), df_vhod, df_izhod, cv=kfold, scoring=\"accuracy\")\n",
        "\n",
        "print(rez.mean()) #ker nam bi drugace izpisalo 5 povprecij, za vsak fold, zato nardimo povprecje teh 5 foldov"
      ],
      "metadata": {
        "id": "Zq57n-gtQNHZ"
      },
      "execution_count": null,
      "outputs": []
    },
    {
      "cell_type": "code",
      "source": [
        "df_izhod=df2[\"Type\"]\n",
        "df_vhod= df2.drop(izhod, axis=1)\n",
        "\n",
        "kfold=StratifiedKFold(n_splits=5)\n",
        "rezultat= cross_val_score(KNeighborsClassifier(n_neighbours=5), df_vhod, df_izhod, cv=kfold, scoring=\"accuracy\")\n",
        "\n",
        "print(rez.mean()) #ker nam bi drugace izpisalo 5 povprecij, za vsak fold, zato nardimo povprecje teh 5 foldov\n"
      ],
      "metadata": {
        "id": "vvainONjP_xA"
      },
      "execution_count": null,
      "outputs": []
    },
    {
      "cell_type": "code",
      "source": [
        "stevilski=[\"Rooms\", \"Bathroom\", \"CarSpots\", \"Landsize\", \"YearBuilt\", \"Price\", \"DistanceFromCenter\"]\n",
        "#stevilske spremenimo, da izrisemo histogram\n",
        "import seaborn as sns\n",
        "sns.distplot(df.Price)\n",
        "#ce nimamo lepih podatkov, jih standardiziramo\n",
        "#delamo na intervalu[-1,1] in poprecje je 0; to je pomembno, ker imamo v df razlicne intervale stevil\n",
        "#knn racuna razdalje in racuna vrednosti med stevilskimi stolpci lahko racuna razlicne razdalje in to vpliva na rezultat\n"
      ],
      "metadata": {
        "colab": {
          "base_uri": "https://localhost:8080/",
          "height": 673
        },
        "id": "yJdIk-whQOZh",
        "outputId": "7cf3e9cb-a1b9-4efb-9fef-15f601ac5c80"
      },
      "execution_count": 17,
      "outputs": [
        {
          "output_type": "stream",
          "name": "stderr",
          "text": [
            "<ipython-input-17-8b522501bbcd>:4: UserWarning: \n",
            "\n",
            "`distplot` is a deprecated function and will be removed in seaborn v0.14.0.\n",
            "\n",
            "Please adapt your code to use either `displot` (a figure-level function with\n",
            "similar flexibility) or `histplot` (an axes-level function for histograms).\n",
            "\n",
            "For a guide to updating your code to use the new functions, please see\n",
            "https://gist.github.com/mwaskom/de44147ed2974457ad6372750bbe5751\n",
            "\n",
            "  sns.distplot(df.Price)\n"
          ]
        },
        {
          "output_type": "execute_result",
          "data": {
            "text/plain": [
              "<Axes: xlabel='Price', ylabel='Density'>"
            ]
          },
          "metadata": {},
          "execution_count": 17
        },
        {
          "output_type": "display_data",
          "data": {
            "text/plain": [
              "<Figure size 640x480 with 1 Axes>"
            ],
            "image/png": "[encoded data removed]"
          },
          "metadata": {}
        }
      ]
    },
    {
      "cell_type": "code",
      "source": [
        "#pazimo da imamo pravilne vrednosti dolocene za vhod pa izhod\n",
        "from sklearn.preprocessing import StrandardScaler\n",
        "df2[stevilski]= StandardScaler().fit_transform(df2[stevilski])\n",
        "df.head()"
      ],
      "metadata": {
        "id": "RnMih_p5RLNa"
      },
      "execution_count": 20,
      "outputs": []
    },
    {
      "cell_type": "code",
      "source": [
        "df_izhod=df2[\"Type\"]\n",
        "df_vhod= df2.drop(izhod, axis=1)\n",
        "\n",
        "kfold=StratifiedKFold(n_splits=5)\n",
        "rezultat= cross_val_score(KNeighborsClassifier(n_neighbours=5), df_vhod, df_izhod, cv=kfold, scoring=\"accuracy\")"
      ],
      "metadata": {
        "id": "TWoeC_SJSs8L"
      },
      "execution_count": null,
      "outputs": []
    },
    {
      "cell_type": "code",
      "source": [
        "#algoritma ki nam omogocata standardizacijo\n",
        "from sklearn.model_selection import GridSearchCV\n",
        "parametri={\n",
        "    'n_neighbours': [1, 3, 5,  10], 'algorithm': ['ball_tree', 'kd_tree']  #parametri in nabor vrednosti\n",
        "    #zelimo kartero povprecje teh foldov bo imel najboljso vrednost\n",
        "}\n",
        "grid_k= GridSearchCV(KNeighborsClassifier(), parametri, cv=10, scoring=\"accuracy\")\n",
        "grid_k.fit(df_vhod, df_izhod)\n",
        "print(grid_k.best_params_)\n",
        "print(grid_k.best_score_) #rezultat\n",
        "print(grid_k.best_estimator_)#najboljsa uporaba/ nastavitev\n",
        "#grid : parametre vzame da jih testira in naredi kombinacijo vsakega z vsakim"
      ],
      "metadata": {
        "id": "yLelSfolTHza"
      },
      "execution_count": null,
      "outputs": []
    },
    {
      "cell_type": "code",
      "source": [
        "from sklearn.model_selection import RandomizedSearchCV\n",
        "from scipy.stats import sp_radint #statisticna knjiznica v pythonu\n",
        "parametri={    #nakljucne vrednsoti od 1-5\n",
        "    'n_neighbours': sp_radint(1,5), 'algorithm': ['ball_tree', 'kd_tree']  #parametri in nabor vrednosti\n",
        "    #zelimo kartero povprecje teh foldov bo imel najboljso vrednost\n",
        "}\n",
        "rand_k= RandomizedSearchCV(KNeighborsClassifier(),param_distributions= parametri, cv=10,n_iter=10, scoring=\"accuracy\")\n",
        " #št iteracij moremo nastavit, da omejimo da ne gre v nedogled; ker randomize nakljucn mece not parametre, da bi bili najboljsi za ta klasifikator\n",
        "rand_k.fit(df_vhod, df_izhod)\n",
        "print(rand_k.best_params_) #kateri je najbolji algoritem za uporabo\n",
        "print(rand_k.best_score_) #rezultat\n",
        "print(rand_k.best_estimator_)#najboljsa uporaba/ nastavitev"
      ],
      "metadata": {
        "id": "mFZII9-HVH5g"
      },
      "execution_count": null,
      "outputs": []
    }
  ]
}