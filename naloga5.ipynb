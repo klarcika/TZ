{
  "nbformat": 4,
  "nbformat_minor": 0,
  "metadata": {
    "colab": {
      "provenance": [],
      "authorship_tag": "ABX9TyOH0IU2NvNuylyvmDrN9bZm",
      "include_colab_link": true
    },
    "kernelspec": {
      "name": "python3",
      "display_name": "Python 3"
    },
    "language_info": {
      "name": "python"
    }
  },
  "cells": [
    {
      "cell_type": "markdown",
      "metadata": {
        "id": "view-in-github",
        "colab_type": "text"
      },
      "source": [
        "<a href=\"https://colab.research.google.com/github/klarcika/TZ/blob/main/naloga5.ipynb\" target=\"_parent\"><img src=\"https://colab.research.google.com/assets/colab-badge.svg\" alt=\"Open In Colab\"/></a>"
      ]
    },
    {
      "cell_type": "code",
      "execution_count": 2,
      "metadata": {
        "colab": {
          "base_uri": "https://localhost:8080/"
        },
        "id": "VxPXoYQnsIM1",
        "outputId": "e24fd6c4-749b-4f7a-e9b4-35fcc8beffc3"
      },
      "outputs": [
        {
          "output_type": "stream",
          "name": "stdout",
          "text": [
            "Requirement already satisfied: tensorflow in /usr/local/lib/python3.10/dist-packages (2.14.0)\n",
            "Requirement already satisfied: absl-py>=1.0.0 in /usr/local/lib/python3.10/dist-packages (from tensorflow) (1.4.0)\n",
            "Requirement already satisfied: astunparse>=1.6.0 in /usr/local/lib/python3.10/dist-packages (from tensorflow) (1.6.3)\n",
            "Requirement already satisfied: flatbuffers>=23.5.26 in /usr/local/lib/python3.10/dist-packages (from tensorflow) (23.5.26)\n",
            "Requirement already satisfied: gast!=0.5.0,!=0.5.1,!=0.5.2,>=0.2.1 in /usr/local/lib/python3.10/dist-packages (from tensorflow) (0.5.4)\n",
            "Requirement already satisfied: google-pasta>=0.1.1 in /usr/local/lib/python3.10/dist-packages (from tensorflow) (0.2.0)\n",
            "Requirement already satisfied: h5py>=2.9.0 in /usr/local/lib/python3.10/dist-packages (from tensorflow) (3.9.0)\n",
            "Requirement already satisfied: libclang>=13.0.0 in /usr/local/lib/python3.10/dist-packages (from tensorflow) (16.0.6)\n",
            "Requirement already satisfied: ml-dtypes==0.2.0 in /usr/local/lib/python3.10/dist-packages (from tensorflow) (0.2.0)\n",
            "Requirement already satisfied: numpy>=1.23.5 in /usr/local/lib/python3.10/dist-packages (from tensorflow) (1.23.5)\n",
            "Requirement already satisfied: opt-einsum>=2.3.2 in /usr/local/lib/python3.10/dist-packages (from tensorflow) (3.3.0)\n",
            "Requirement already satisfied: packaging in /usr/local/lib/python3.10/dist-packages (from tensorflow) (23.2)\n",
            "Requirement already satisfied: protobuf!=4.21.0,!=4.21.1,!=4.21.2,!=4.21.3,!=4.21.4,!=4.21.5,<5.0.0dev,>=3.20.3 in /usr/local/lib/python3.10/dist-packages (from tensorflow) (3.20.3)\n",
            "Requirement already satisfied: setuptools in /usr/local/lib/python3.10/dist-packages (from tensorflow) (67.7.2)\n",
            "Requirement already satisfied: six>=1.12.0 in /usr/local/lib/python3.10/dist-packages (from tensorflow) (1.16.0)\n",
            "Requirement already satisfied: termcolor>=1.1.0 in /usr/local/lib/python3.10/dist-packages (from tensorflow) (2.3.0)\n",
            "Requirement already satisfied: typing-extensions>=3.6.6 in /usr/local/lib/python3.10/dist-packages (from tensorflow) (4.5.0)\n",
            "Requirement already satisfied: wrapt<1.15,>=1.11.0 in /usr/local/lib/python3.10/dist-packages (from tensorflow) (1.14.1)\n",
            "Requirement already satisfied: tensorflow-io-gcs-filesystem>=0.23.1 in /usr/local/lib/python3.10/dist-packages (from tensorflow) (0.34.0)\n",
            "Requirement already satisfied: grpcio<2.0,>=1.24.3 in /usr/local/lib/python3.10/dist-packages (from tensorflow) (1.59.0)\n",
            "Requirement already satisfied: tensorboard<2.15,>=2.14 in /usr/local/lib/python3.10/dist-packages (from tensorflow) (2.14.1)\n",
            "Requirement already satisfied: tensorflow-estimator<2.15,>=2.14.0 in /usr/local/lib/python3.10/dist-packages (from tensorflow) (2.14.0)\n",
            "Requirement already satisfied: keras<2.15,>=2.14.0 in /usr/local/lib/python3.10/dist-packages (from tensorflow) (2.14.0)\n",
            "Requirement already satisfied: wheel<1.0,>=0.23.0 in /usr/local/lib/python3.10/dist-packages (from astunparse>=1.6.0->tensorflow) (0.41.2)\n",
            "Requirement already satisfied: google-auth<3,>=1.6.3 in /usr/local/lib/python3.10/dist-packages (from tensorboard<2.15,>=2.14->tensorflow) (2.17.3)\n",
            "Requirement already satisfied: google-auth-oauthlib<1.1,>=0.5 in /usr/local/lib/python3.10/dist-packages (from tensorboard<2.15,>=2.14->tensorflow) (1.0.0)\n",
            "Requirement already satisfied: markdown>=2.6.8 in /usr/local/lib/python3.10/dist-packages (from tensorboard<2.15,>=2.14->tensorflow) (3.5)\n",
            "Requirement already satisfied: requests<3,>=2.21.0 in /usr/local/lib/python3.10/dist-packages (from tensorboard<2.15,>=2.14->tensorflow) (2.31.0)\n",
            "Requirement already satisfied: tensorboard-data-server<0.8.0,>=0.7.0 in /usr/local/lib/python3.10/dist-packages (from tensorboard<2.15,>=2.14->tensorflow) (0.7.2)\n",
            "Requirement already satisfied: werkzeug>=1.0.1 in /usr/local/lib/python3.10/dist-packages (from tensorboard<2.15,>=2.14->tensorflow) (3.0.1)\n",
            "Requirement already satisfied: cachetools<6.0,>=2.0.0 in /usr/local/lib/python3.10/dist-packages (from google-auth<3,>=1.6.3->tensorboard<2.15,>=2.14->tensorflow) (5.3.2)\n",
            "Requirement already satisfied: pyasn1-modules>=0.2.1 in /usr/local/lib/python3.10/dist-packages (from google-auth<3,>=1.6.3->tensorboard<2.15,>=2.14->tensorflow) (0.3.0)\n",
            "Requirement already satisfied: rsa<5,>=3.1.4 in /usr/local/lib/python3.10/dist-packages (from google-auth<3,>=1.6.3->tensorboard<2.15,>=2.14->tensorflow) (4.9)\n",
            "Requirement already satisfied: requests-oauthlib>=0.7.0 in /usr/local/lib/python3.10/dist-packages (from google-auth-oauthlib<1.1,>=0.5->tensorboard<2.15,>=2.14->tensorflow) (1.3.1)\n",
            "Requirement already satisfied: charset-normalizer<4,>=2 in /usr/local/lib/python3.10/dist-packages (from requests<3,>=2.21.0->tensorboard<2.15,>=2.14->tensorflow) (3.3.1)\n",
            "Requirement already satisfied: idna<4,>=2.5 in /usr/local/lib/python3.10/dist-packages (from requests<3,>=2.21.0->tensorboard<2.15,>=2.14->tensorflow) (3.4)\n",
            "Requirement already satisfied: urllib3<3,>=1.21.1 in /usr/local/lib/python3.10/dist-packages (from requests<3,>=2.21.0->tensorboard<2.15,>=2.14->tensorflow) (2.0.7)\n",
            "Requirement already satisfied: certifi>=2017.4.17 in /usr/local/lib/python3.10/dist-packages (from requests<3,>=2.21.0->tensorboard<2.15,>=2.14->tensorflow) (2023.7.22)\n",
            "Requirement already satisfied: MarkupSafe>=2.1.1 in /usr/local/lib/python3.10/dist-packages (from werkzeug>=1.0.1->tensorboard<2.15,>=2.14->tensorflow) (2.1.3)\n",
            "Requirement already satisfied: pyasn1<0.6.0,>=0.4.6 in /usr/local/lib/python3.10/dist-packages (from pyasn1-modules>=0.2.1->google-auth<3,>=1.6.3->tensorboard<2.15,>=2.14->tensorflow) (0.5.0)\n",
            "Requirement already satisfied: oauthlib>=3.0.0 in /usr/local/lib/python3.10/dist-packages (from requests-oauthlib>=0.7.0->google-auth-oauthlib<1.1,>=0.5->tensorboard<2.15,>=2.14->tensorflow) (3.2.2)\n"
          ]
        }
      ],
      "source": [
        "!pip install tensorflow"
      ]
    },
    {
      "cell_type": "code",
      "source": [
        "#1. Izpišite koliko je vseh slik v mapi data.\n",
        "import pathlib\n",
        "import numpy as np\n",
        "import PIL\n",
        "\n",
        "import tensorflow as tf\n",
        "from tensorflow import keras\n",
        "from tensorflow.keras import layers\n",
        "\n",
        "pot = pathlib.Path(\"data\")\n",
        "st_slik = len(list(pot.glob('*/*.jpg')))\n",
        "print(\"Število vseh slik: \" + str(st_slik))"
      ],
      "metadata": {
        "id": "KgsrlmZ3siKr"
      },
      "execution_count": 4,
      "outputs": []
    },
    {
      "cell_type": "code",
      "source": [
        "#2. Izrišite graf na katerem prikažete koliko je slik v posamezni kategoriji oz.\n",
        "# koliko slik pripada posameznemu razredu\n",
        "import matplotlib.pyplot as plt\n",
        "from pathlib import Path\n",
        "\n",
        "# Seznam map za različne kategorije\n",
        "kategorije = [\"cat\", \"dog\", \"flower\", \"human\"]\n",
        "\n",
        "# Seznam za shranjevanje števila slik v vsaki kategoriji\n",
        "stevilo_slik = []\n",
        "\n",
        "# Preštejte število slik v vsaki kategoriji\n",
        "for kategorija in kategorije:\n",
        "    slike = list(pot.glob(f\"{kategorija}/*\"))\n",
        "    stevilo_slik.append(len(slike))\n",
        "\n",
        "# Ustvarite stolpčni graf\n",
        "plt.bar(kategorije, stevilo_slik)\n",
        "\n",
        "# Nastavite naslov in oznake osi\n",
        "plt.title(\"Število slik po kategorijah\")\n",
        "plt.xlabel(\"Kategorije\")\n",
        "plt.ylabel(\"Število slik\")\n",
        "\n",
        "# Prikažite graf\n",
        "plt.show()\n"
      ],
      "metadata": {
        "id": "uhmZdDbisjZB"
      },
      "execution_count": 5,
      "outputs": []
    },
    {
      "cell_type": "code",
      "source": [
        "#3. Preverite kakšne slike so shranjene v obstoječih mapah,\n",
        "# tako da izpišete po 3 primerke za vsak posamezen razred.\n",
        "for j in range(kategorije.length):\n",
        "  for i in range(3):\n",
        "      display(PIL.Image.open(str(kategorije[j][i])))\n",
        "      i=i+1\n",
        "      j=j+1;"
      ],
      "metadata": {
        "id": "uuoHLvzisleo"
      },
      "execution_count": 6,
      "outputs": []
    },
    {
      "cell_type": "code",
      "source": [
        "#4. Obstoječe podatke (iz mape data) razdelite v testni in\n",
        "# validacijski dataset, glede na naključno stanje 123. Velikost učne množice naj bo 70%.\n",
        "# Vsem slikam spremenite velikost na 120x120. Velikost serije (batch size) naj bo 25.\n",
        "img_height = 120\n",
        "img_width = 120\n",
        "batch_size = 25\n",
        "#razdelitev podatkov\n",
        "train = tf.keras.preprocessing.image_dataset_from_directory(pot,\n",
        "                                                            validation_split=0.3, #velikost validacijske množice je 30%\n",
        "                                                            subset=\"training\", #povemo da tu želimo pridobiti slike za učno množico\n",
        "                                                            seed=123,\n",
        "                                                            image_size=(img_height, img_width), #spremenimo velikost slik\n",
        "                                                            batch_size=batch_size) #nastavimo velikost serije"
      ],
      "metadata": {
        "id": "Z4jElbZusq1b"
      },
      "execution_count": 7,
      "outputs": []
    },
    {
      "cell_type": "code",
      "source": [
        "validation = tf.keras.preprocessing.image_dataset_from_directory(pot,\n",
        "                                                                 validation_split=0.3, #velikost validacijske množice je 30%\n",
        "                                                                 subset=\"validation\", #povemo da tu želimo pridobiti slike za validacijsko množico\n",
        "                                                                 seed=123,\n",
        "                                                                 image_size=(img_height, img_width), #spremenimo velikost slik\n",
        "                                                                 batch_size=batch_size) #nastavimo velikost serije"
      ],
      "metadata": {
        "id": "1NV18UHkszRA"
      },
      "execution_count": null,
      "outputs": []
    },
    {
      "cell_type": "code",
      "source": [
        "#5. Prikažite še 15 slik s pripadajočimi razredi iz učne množice.\n",
        "import matplotlib.pyplot as plt\n",
        "imena_razredov = train.class_names\n",
        "plt.figure(figsize=(15, 15)) #nastavimo velikost slik za prikaz\n",
        "for images, labels in train.take(1):\n",
        "    for i in range(15): #izpišemo 10 slik\n",
        "        ax = plt.subplot(2, 5, i + 1) #izpišemo 5 slik v eni vrstici\n",
        "        plt.imshow(images[i].numpy().astype(\"uint8\")) #prikažemo sliko\n",
        "        plt.title(imena_razredov[labels[i]]) #pikažemo napis nad sliko"
      ],
      "metadata": {
        "id": "c2g-P1LF_Hjh"
      },
      "execution_count": null,
      "outputs": []
    },
    {
      "cell_type": "code",
      "source": [
        "#6. Izpišite kakšni so izhodni razredi slik iz prve serije (batch-a).\n",
        "for image_batch, labels_batch in train:\n",
        "    print(labels_batch.shape)\n",
        "    print(labels_batch) #izpis razredov za prvo serijo (batch)\n",
        "    break"
      ],
      "metadata": {
        "id": "LLG1Gm5u_SQs"
      },
      "execution_count": null,
      "outputs": []
    },
    {
      "cell_type": "code",
      "source": [
        "# 7. Nad slikami izvedite augmentacijo tako da jih obrnete glede na\n",
        "#  vertikalno os ter jih zavrtite in približate za vrednost 0,3.\n",
        "# Augmentacijo lahko izvedete predhodna nad slikami, ali jo vključite v model.\n",
        "# Pazite, da jo izvedete samo enkrat.\n",
        "data_augmentation = tf.keras.Sequential([\n",
        "    tf.keras.layers.experimental.preprocessing.RandomFlip(\"vertical\", input_shape=(img_height, img_width, 3)),\n",
        "    tf.keras.layers.experimental.preprocessing.RandomRotation(0.1),\n",
        "    tf.keras.layers.experimental.preprocessing.RandomZoom(0.3),\n",
        "])\n",
        "\n",
        "plt.figure(figsize=(15, 15))\n",
        "for images, _ in train.take(1):\n",
        "    for i in range(3):\n",
        "        augmented_images = data_augmentation(images)\n",
        "        ax = plt.subplot(1, 3, i + 1)\n",
        "        plt.imshow(augmented_images[0].numpy().astype(\"uint8\"))\n"
      ],
      "metadata": {
        "id": "v6JtwntL_VxS"
      },
      "execution_count": null,
      "outputs": []
    },
    {
      "cell_type": "code",
      "source": [
        "#8. Standardizirajte podatke (standardizacijo lahko izvedete\n",
        "#neposredno nad datasetom s slikami\n",
        "#ali pa jo vključite kot samostojno raven v model).\n",
        "st_razredov = 3\n",
        "model = Sequential()\n",
        "model.add(layers.experimental.preprocessing.RandomFlip(\"horizontal\", input_shape=(img_height, img_width, 3))) # Data augmentation\n",
        "model.add(layers.experimental.preprocessing.RandomRotation(0.1)) # Data augmentation\n",
        "model.add(layers.experimental.preprocessing.RandomZoom(0.1)) # Data augmentation\n",
        "model.add(layers.experimental.preprocessing.Rescaling(1./255, input_shape=(img_height, img_width, 3))) # Standardizacija podatkov\n",
        "model.add(layers.Conv2D(16, 3, padding='same', activation='relu'))\n",
        "model.add(layers.MaxPooling2D())\n",
        "model.add(layers.Conv2D(32, 3, padding='same', activation='relu'))\n",
        "model.add(layers.MaxPooling2D())\n",
        "model.add(layers.Conv2D(64, 3, padding='same', activation='relu'))\n",
        "model.add(layers.MaxPooling2D())\n",
        "model.add(layers.Dropout(0.2))\n",
        "model.add(layers.Flatten())\n",
        "model.add(layers.Dense(128, activation='relu'))\n",
        "model.add(layers.Dense(st_razredov))\n"
      ],
      "metadata": {
        "id": "4DrTYwGHMH7x"
      },
      "execution_count": null,
      "outputs": []
    },
    {
      "cell_type": "code",
      "source": [
        "# 9. Ustvarite Sequential model, ki bo vseboval dva bloka\n",
        "#  s konvolucijskimi nevronskimi mrežami.\n",
        "# Prvi blok naj ima vrednost filters nastavljeno na 32,\n",
        "# drugi pa na 64. kernel_size naj bo pri obeh 3,\n",
        "# prav tako naj imata ob aktivacijsko funkcijo 'relu',\n",
        "# vsakemu pa naj sledi raven MaxPooling2D.\n",
        "# Za zadnjim MaxPooling-om dodajte Dropout raven z vrednostjo 0,2.\n",
        "# Kot zadnji dodajte še Flatten in Dense raven.\n",
        "model = Sequential()\n",
        "\n",
        "# Prvi konvolucijski blok\n",
        "model.add(Conv2D(32, (3, 3), activation='relu', input_shape=(img_height, img_width, 3)))\n",
        "model.add(MaxPooling2D((2, 2)))\n",
        "\n",
        "# Drugi konvolucijski blok\n",
        "model.add(Conv2D(64, (3, 3), activation='relu'))\n",
        "model.add(MaxPooling2D((2, 2)))\n",
        "\n",
        "model.add(Dropout(0.2))  # Dodamo Dropout plast\n",
        "model.add(Flatten())  # Flatten plast\n",
        "model.add(Dense(st_razredov))  # Polno povezana plast na koncu\n"
      ],
      "metadata": {
        "id": "BlSp2aAOMtIZ"
      },
      "execution_count": null,
      "outputs": []
    }
  ]
}