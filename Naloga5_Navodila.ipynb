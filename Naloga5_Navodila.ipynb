{
  "nbformat": 4,
  "nbformat_minor": 0,
  "metadata": {
    "colab": {
      "provenance": [],
      "authorship_tag": "ABX9TyPeAlYc25b7kFP4MFj9Xu77",
      "include_colab_link": true
    },
    "kernelspec": {
      "name": "python3",
      "display_name": "Python 3"
    },
    "language_info": {
      "name": "python"
    }
  },
  "cells": [
    {
      "cell_type": "markdown",
      "metadata": {
        "id": "view-in-github",
        "colab_type": "text"
      },
      "source": [
        "<a href=\"https://colab.research.google.com/github/klarcika/TZ/blob/main/Naloga5_Navodila.ipynb\" target=\"_parent\"><img src=\"https://colab.research.google.com/assets/colab-badge.svg\" alt=\"Open In Colab\"/></a>"
      ]
    },
    {
      "cell_type": "markdown",
      "source": [
        "KLASIFIKACIJA SLIK"
      ],
      "metadata": {
        "id": "0gYlKl7Ufkz8"
      }
    },
    {
      "cell_type": "code",
      "execution_count": 2,
      "metadata": {
        "id": "GRmeqXQmdi7-"
      },
      "outputs": [],
      "source": [
        "# uporba nevronskih mrež\n",
        "# tensorflow\n",
        "# klasifikacija slik ne pride v postev v test iz vaj\n"
      ]
    },
    {
      "cell_type": "markdown",
      "source": [
        "priprava podatkov: pomembno kako so slike struktorirane;\n",
        "slike si razdelimo po razredih(mape), testne slike so lahko mesane; v data mapi imamo mape posameznih slik"
      ],
      "metadata": {
        "id": "qpOBA_gfgY6f"
      }
    },
    {
      "cell_type": "markdown",
      "source": [
        "Branje slik pathlib.Path(\"pot do slike\")\n",
        "ko damo slike v dolocene mape, naj bodo cim bolj razlicne\n",
        "- vse slike morajo biti enake velikosti, nastavimo visino in sirino, batch_size=koliko je št slik ki so naenkrat uporabljene za ucenje, vzame doloceno stevilo slik v eni iteraciji"
      ],
      "metadata": {
        "id": "pzqG3KXphKQM"
      }
    },
    {
      "cell_type": "markdown",
      "source": [
        "validacijska množica =/= testna množica;\n",
        "loss je obratno accuracy\n",
        "v vsaki iteraciji imamo ustno in validacijsko mnozico, ki sluzita za potrebe ucenja\n",
        "pregled slik: za vsak razred izpisemo kaj predstavlja\n",
        "batch_size(št slik v eni iteraciji, veliksot slike, velikost slike, barve slik rgb 3)\n"
      ],
      "metadata": {
        "id": "wwNdzxABiAFW"
      }
    },
    {
      "cell_type": "markdown",
      "source": [
        "optimizacija med pomnenjem; podatki se shranjujejo v medpomnilnik\n",
        "AUGOMENTACIJA SLIK: kadar imamo malo slik in želimo nabor slik povecat; obstojece slike pretvori v nove(sami dolocimo kako se to izvede)\n",
        "racunalniku ne loci da je slika ista, ce ima zamenjan kontarst ali velikost\n"
      ],
      "metadata": {
        "id": "QLzIgwDPjWq5"
      }
    },
    {
      "cell_type": "markdown",
      "source": [
        "ALGORITEM ZA UCENJE\n",
        "cnn - globoke nevronske mreze, razlicne plasti, in vsaka plast ima svojo nalogo, lahko se izvaja zaporedno/ vzopredno; dodamo ravni\n",
        "/*pri nalogi nardimo augomentacijo 1X!*/\n",
        "vse slike je potrebno standardizirat\n",
        "katero vrsto nevronske mreze bomo uporabli; Dropout, ce imamo loss in zelimo koncati z izvajanjem\n",
        "optimizator=\"adam\"; model.summary() <- kaj vse smo vkljucili"
      ],
      "metadata": {
        "id": "7tFnzizFkBK6"
      }
    },
    {
      "cell_type": "markdown",
      "source": [
        "UCENJE\n",
        "z fit metodo, damo not validacijske in ucne podatke, epochs št iteracij, ki jih mreza nardi; loss more bit cim manjsi\n",
        "na koncu izpisemo rezultate;"
      ],
      "metadata": {
        "id": "Wu-vH2TflMyP"
      }
    }
  ]
}