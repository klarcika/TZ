{
  "cells": [
    {
      "cell_type": "markdown",
      "metadata": {
        "id": "view-in-github",
        "colab_type": "text"
      },
      "source": [
        "<a href=\"https://colab.research.google.com/github/klarcika/TZ/blob/main/Naloga3.ipynb\" target=\"_parent\"><img src=\"https://colab.research.google.com/assets/colab-badge.svg\" alt=\"Open In Colab\"/></a>"
      ]
    },
    {
      "cell_type": "code",
      "source": [
        "import pandas as pd"
      ],
      "metadata": {
        "id": "1HUrWg6Yboka"
      },
      "execution_count": 6,
      "outputs": []
    },
    {
      "cell_type": "code",
      "source": [
        "df_rank= pd.read_csv(\"university_rank_2020.csv\",index_col=\"University\", decimal=\",\")"
      ],
      "metadata": {
        "id": "hxENfbqjcFIu"
      },
      "execution_count": 7,
      "outputs": []
    },
    {
      "cell_type": "code",
      "source": [
        "df_other = pd.read_csv(\"university_rank_other.csv\", sep=\" \",index_col=0, decimal=\".\")"
      ],
      "metadata": {
        "id": "-685nGzzcIJS"
      },
      "execution_count": 8,
      "outputs": []
    },
    {
      "cell_type": "code",
      "source": [
        "df_student= pd.read_excel(\"university_rank_students.xlsx\",index_col=\"University\", sheet_name=0)"
      ],
      "metadata": {
        "id": "8J4VjyfhcKD1"
      },
      "execution_count": 9,
      "outputs": []
    },
    {
      "cell_type": "code",
      "source": [
        "df = pd.concat([df_other, df_rank, df_student], axis=1)"
      ],
      "metadata": {
        "id": "1nrtrrxzcMCl"
      },
      "execution_count": 10,
      "outputs": []
    },
    {
      "cell_type": "code",
      "source": [
        "# 1. Izpišite:\n",
        "\n",
        "# koliko vrstic in stolpcev ima ta združen df,\n",
        "# kakšnega tipa so posamezni stolpci,\n",
        "# prvih 5 vrstic in\n",
        "# koliko je manjkajočih podatkov v posameznem stolpcu.\n",
        "df.shape"
      ],
      "metadata": {
        "colab": {
          "base_uri": "https://localhost:8080/"
        },
        "id": "EzzpmLT6cOFe",
        "outputId": "d5042f12-4a1e-471b-fb3c-0a5d1bcb688f"
      },
      "execution_count": 11,
      "outputs": [
        {
          "output_type": "execute_result",
          "data": {
            "text/plain": [
              "(1396, 13)"
            ]
          },
          "metadata": {},
          "execution_count": 11
        }
      ]
    },
    {
      "cell_type": "code",
      "source": [
        "df.dtypes"
      ],
      "metadata": {
        "colab": {
          "base_uri": "https://localhost:8080/"
        },
        "id": "Qle4gl83cVcr",
        "outputId": "ca7383b3-188e-4e9f-8ae4-a4c2bc14bfbb"
      },
      "execution_count": 12,
      "outputs": [
        {
          "output_type": "execute_result",
          "data": {
            "text/plain": [
              "Teaching                     float64\n",
              "Research                     float64\n",
              "Citations                    float64\n",
              "Industry_Income              float64\n",
              "International_Outlook         object\n",
              "Country                       object\n",
              "Number_students               object\n",
              "Numb_students_per_Staff       object\n",
              "Score_Result                  object\n",
              "Rank                           int64\n",
              "International_Students(%)    float64\n",
              "Percentage_Female(%)         float64\n",
              "Percentage_Male(%)           float64\n",
              "dtype: object"
            ]
          },
          "metadata": {},
          "execution_count": 12
        }
      ]
    },
    {
      "cell_type": "code",
      "source": [
        "df[:5]"
      ],
      "metadata": {
        "colab": {
          "base_uri": "https://localhost:8080/",
          "height": 347
        },
        "id": "eM2968jfcZ6k",
        "outputId": "5be95cac-4168-47df-825d-15e96b199343"
      },
      "execution_count": 13,
      "outputs": [
        {
          "output_type": "execute_result",
          "data": {
            "text/plain": [
              "                                       Teaching  Research  Citations  \\\n",
              "University of Oxford                       90.5      99.6       98.4   \n",
              "California Institute of Technology         92.1      97.2       97.9   \n",
              "University of Cambridge                    91.4      98.7       95.8   \n",
              "Stanford University                        92.8      96.4       99.9   \n",
              "Massachusetts Institute of Technology      90.5      92.4       99.5   \n",
              "\n",
              "                                       Industry_Income International_Outlook  \\\n",
              "University of Oxford                              65.5             excellent   \n",
              "California Institute of Technology                88.0             excellent   \n",
              "University of Cambridge                           59.3             excellent   \n",
              "Stanford University                               66.2             excellent   \n",
              "Massachusetts Institute of Technology             86.9             excellent   \n",
              "\n",
              "                                              Country     Number_students  \\\n",
              "University of Oxford                   United Kingdom              20.664   \n",
              "California Institute of Technology      United States                2.24   \n",
              "University of Cambridge                United Kingdom  18.977999999999998   \n",
              "Stanford University                     United States              16.135   \n",
              "Massachusetts Institute of Technology   United States              11.247   \n",
              "\n",
              "                                      Numb_students_per_Staff Score_Result  \\\n",
              "University of Oxford                                     11.2         95.4   \n",
              "California Institute of Technology                        6.4         94.5   \n",
              "University of Cambridge                                  10.9         94.4   \n",
              "Stanford University                                       7.3         94.3   \n",
              "Massachusetts Institute of Technology                     8.6         93.6   \n",
              "\n",
              "                                       Rank  International_Students(%)  \\\n",
              "University of Oxford                      1                       41.0   \n",
              "California Institute of Technology        2                       30.0   \n",
              "University of Cambridge                   3                       37.0   \n",
              "Stanford University                       4                        NaN   \n",
              "Massachusetts Institute of Technology     5                       34.0   \n",
              "\n",
              "                                       Percentage_Female(%)  \\\n",
              "University of Oxford                                   46.0   \n",
              "California Institute of Technology                      NaN   \n",
              "University of Cambridge                                47.0   \n",
              "Stanford University                                    43.0   \n",
              "Massachusetts Institute of Technology                  39.0   \n",
              "\n",
              "                                       Percentage_Male(%)  \n",
              "University of Oxford                                 54.0  \n",
              "California Institute of Technology                   66.0  \n",
              "University of Cambridge                              53.0  \n",
              "Stanford University                                  57.0  \n",
              "Massachusetts Institute of Technology                61.0  "
            ],
            "text/html": [
              "\n",
              "  <div id=\"df-52c9ae83-13de-4764-a68f-e2ed5bff29cc\" class=\"colab-df-container\">\n",
              "    <div>\n",
              "<style scoped>\n",
              "    .dataframe tbody tr th:only-of-type {\n",
              "        vertical-align: middle;\n",
              "    }\n",
              "\n",
              "    .dataframe tbody tr th {\n",
              "        vertical-align: top;\n",
              "    }\n",
              "\n",
              "    .dataframe thead th {\n",
              "        text-align: right;\n",
              "    }\n",
              "</style>\n",
              "<table border=\"1\" class=\"dataframe\">\n",
              "  <thead>\n",
              "    <tr style=\"text-align: right;\">\n",
              "      <th></th>\n",
              "      <th>Teaching</th>\n",
              "      <th>Research</th>\n",
              "      <th>Citations</th>\n",
              "      <th>Industry_Income</th>\n",
              "      <th>International_Outlook</th>\n",
              "      <th>Country</th>\n",
              "      <th>Number_students</th>\n",
              "      <th>Numb_students_per_Staff</th>\n",
              "      <th>Score_Result</th>\n",
              "      <th>Rank</th>\n",
              "      <th>International_Students(%)</th>\n",
              "      <th>Percentage_Female(%)</th>\n",
              "      <th>Percentage_Male(%)</th>\n",
              "    </tr>\n",
              "  </thead>\n",
              "  <tbody>\n",
              "    <tr>\n",
              "      <th>University of Oxford</th>\n",
              "      <td>90.5</td>\n",
              "      <td>99.6</td>\n",
              "      <td>98.4</td>\n",
              "      <td>65.5</td>\n",
              "      <td>excellent</td>\n",
              "      <td>United Kingdom</td>\n",
              "      <td>20.664</td>\n",
              "      <td>11.2</td>\n",
              "      <td>95.4</td>\n",
              "      <td>1</td>\n",
              "      <td>41.0</td>\n",
              "      <td>46.0</td>\n",
              "      <td>54.0</td>\n",
              "    </tr>\n",
              "    <tr>\n",
              "      <th>California Institute of Technology</th>\n",
              "      <td>92.1</td>\n",
              "      <td>97.2</td>\n",
              "      <td>97.9</td>\n",
              "      <td>88.0</td>\n",
              "      <td>excellent</td>\n",
              "      <td>United States</td>\n",
              "      <td>2.24</td>\n",
              "      <td>6.4</td>\n",
              "      <td>94.5</td>\n",
              "      <td>2</td>\n",
              "      <td>30.0</td>\n",
              "      <td>NaN</td>\n",
              "      <td>66.0</td>\n",
              "    </tr>\n",
              "    <tr>\n",
              "      <th>University of Cambridge</th>\n",
              "      <td>91.4</td>\n",
              "      <td>98.7</td>\n",
              "      <td>95.8</td>\n",
              "      <td>59.3</td>\n",
              "      <td>excellent</td>\n",
              "      <td>United Kingdom</td>\n",
              "      <td>18.977999999999998</td>\n",
              "      <td>10.9</td>\n",
              "      <td>94.4</td>\n",
              "      <td>3</td>\n",
              "      <td>37.0</td>\n",
              "      <td>47.0</td>\n",
              "      <td>53.0</td>\n",
              "    </tr>\n",
              "    <tr>\n",
              "      <th>Stanford University</th>\n",
              "      <td>92.8</td>\n",
              "      <td>96.4</td>\n",
              "      <td>99.9</td>\n",
              "      <td>66.2</td>\n",
              "      <td>excellent</td>\n",
              "      <td>United States</td>\n",
              "      <td>16.135</td>\n",
              "      <td>7.3</td>\n",
              "      <td>94.3</td>\n",
              "      <td>4</td>\n",
              "      <td>NaN</td>\n",
              "      <td>43.0</td>\n",
              "      <td>57.0</td>\n",
              "    </tr>\n",
              "    <tr>\n",
              "      <th>Massachusetts Institute of Technology</th>\n",
              "      <td>90.5</td>\n",
              "      <td>92.4</td>\n",
              "      <td>99.5</td>\n",
              "      <td>86.9</td>\n",
              "      <td>excellent</td>\n",
              "      <td>United States</td>\n",
              "      <td>11.247</td>\n",
              "      <td>8.6</td>\n",
              "      <td>93.6</td>\n",
              "      <td>5</td>\n",
              "      <td>34.0</td>\n",
              "      <td>39.0</td>\n",
              "      <td>61.0</td>\n",
              "    </tr>\n",
              "  </tbody>\n",
              "</table>\n",
              "</div>\n",
              "    <div class=\"colab-df-buttons\">\n",
              "\n",
              "  <div class=\"colab-df-container\">\n",
              "    <button class=\"colab-df-convert\" onclick=\"convertToInteractive('df-52c9ae83-13de-4764-a68f-e2ed5bff29cc')\"\n",
              "            title=\"Convert this dataframe to an interactive table.\"\n",
              "            style=\"display:none;\">\n",
              "\n",
              "  <svg xmlns=\"http://www.w3.org/2000/svg\" height=\"24px\" viewBox=\"0 -960 960 960\">\n",
              "    <path d=\"M120-120v-720h720v720H120Zm60-500h600v-160H180v160Zm220 220h160v-160H400v160Zm0 220h160v-160H400v160ZM180-400h160v-160H180v160Zm440 0h160v-160H620v160ZM180-180h160v-160H180v160Zm440 0h160v-160H620v160Z\"/>\n",
              "  </svg>\n",
              "    </button>\n",
              "\n",
              "  <style>\n",
              "    .colab-df-container {\n",
              "      display:flex;\n",
              "      gap: 12px;\n",
              "    }\n",
              "\n",
              "    .colab-df-convert {\n",
              "      background-color: #E8F0FE;\n",
              "      border: none;\n",
              "      border-radius: 50%;\n",
              "      cursor: pointer;\n",
              "      display: none;\n",
              "      fill: #1967D2;\n",
              "      height: 32px;\n",
              "      padding: 0 0 0 0;\n",
              "      width: 32px;\n",
              "    }\n",
              "\n",
              "    .colab-df-convert:hover {\n",
              "      background-color: #E2EBFA;\n",
              "      box-shadow: 0px 1px 2px rgba(60, 64, 67, 0.3), 0px 1px 3px 1px rgba(60, 64, 67, 0.15);\n",
              "      fill: #174EA6;\n",
              "    }\n",
              "\n",
              "    .colab-df-buttons div {\n",
              "      margin-bottom: 4px;\n",
              "    }\n",
              "\n",
              "    [theme=dark] .colab-df-convert {\n",
              "      background-color: #3B4455;\n",
              "      fill: #D2E3FC;\n",
              "    }\n",
              "\n",
              "    [theme=dark] .colab-df-convert:hover {\n",
              "      background-color: #434B5C;\n",
              "      box-shadow: 0px 1px 3px 1px rgba(0, 0, 0, 0.15);\n",
              "      filter: drop-shadow(0px 1px 2px rgba(0, 0, 0, 0.3));\n",
              "      fill: #FFFFFF;\n",
              "    }\n",
              "  </style>\n",
              "\n",
              "    <script>\n",
              "      const buttonEl =\n",
              "        document.querySelector('#df-52c9ae83-13de-4764-a68f-e2ed5bff29cc button.colab-df-convert');\n",
              "      buttonEl.style.display =\n",
              "        google.colab.kernel.accessAllowed ? 'block' : 'none';\n",
              "\n",
              "      async function convertToInteractive(key) {\n",
              "        const element = document.querySelector('#df-52c9ae83-13de-4764-a68f-e2ed5bff29cc');\n",
              "        const dataTable =\n",
              "          await google.colab.kernel.invokeFunction('convertToInteractive',\n",
              "                                                    [key], {});\n",
              "        if (!dataTable) return;\n",
              "\n",
              "        const docLinkHtml = 'Like what you see? Visit the ' +\n",
              "          '<a target=\"_blank\" href=https://colab.research.google.com/notebooks/data_table.ipynb>data table notebook</a>'\n",
              "          + ' to learn more about interactive tables.';\n",
              "        element.innerHTML = '';\n",
              "        dataTable['output_type'] = 'display_data';\n",
              "        await google.colab.output.renderOutput(dataTable, element);\n",
              "        const docLink = document.createElement('div');\n",
              "        docLink.innerHTML = docLinkHtml;\n",
              "        element.appendChild(docLink);\n",
              "      }\n",
              "    </script>\n",
              "  </div>\n",
              "\n",
              "\n",
              "<div id=\"df-af1b16c4-16d7-4be7-b034-66cf1afb1e70\">\n",
              "  <button class=\"colab-df-quickchart\" onclick=\"quickchart('df-af1b16c4-16d7-4be7-b034-66cf1afb1e70')\"\n",
              "            title=\"Suggest charts.\"\n",
              "            style=\"display:none;\">\n",
              "\n",
              "<svg xmlns=\"http://www.w3.org/2000/svg\" height=\"24px\"viewBox=\"0 0 24 24\"\n",
              "     width=\"24px\">\n",
              "    <g>\n",
              "        <path d=\"M19 3H5c-1.1 0-2 .9-2 2v14c0 1.1.9 2 2 2h14c1.1 0 2-.9 2-2V5c0-1.1-.9-2-2-2zM9 17H7v-7h2v7zm4 0h-2V7h2v10zm4 0h-2v-4h2v4z\"/>\n",
              "    </g>\n",
              "</svg>\n",
              "  </button>\n",
              "\n",
              "<style>\n",
              "  .colab-df-quickchart {\n",
              "      --bg-color: #E8F0FE;\n",
              "      --fill-color: #1967D2;\n",
              "      --hover-bg-color: #E2EBFA;\n",
              "      --hover-fill-color: #174EA6;\n",
              "      --disabled-fill-color: #AAA;\n",
              "      --disabled-bg-color: #DDD;\n",
              "  }\n",
              "\n",
              "  [theme=dark] .colab-df-quickchart {\n",
              "      --bg-color: #3B4455;\n",
              "      --fill-color: #D2E3FC;\n",
              "      --hover-bg-color: #434B5C;\n",
              "      --hover-fill-color: #FFFFFF;\n",
              "      --disabled-bg-color: #3B4455;\n",
              "      --disabled-fill-color: #666;\n",
              "  }\n",
              "\n",
              "  .colab-df-quickchart {\n",
              "    background-color: var(--bg-color);\n",
              "    border: none;\n",
              "    border-radius: 50%;\n",
              "    cursor: pointer;\n",
              "    display: none;\n",
              "    fill: var(--fill-color);\n",
              "    height: 32px;\n",
              "    padding: 0;\n",
              "    width: 32px;\n",
              "  }\n",
              "\n",
              "  .colab-df-quickchart:hover {\n",
              "    background-color: var(--hover-bg-color);\n",
              "    box-shadow: 0 1px 2px rgba(60, 64, 67, 0.3), 0 1px 3px 1px rgba(60, 64, 67, 0.15);\n",
              "    fill: var(--button-hover-fill-color);\n",
              "  }\n",
              "\n",
              "  .colab-df-quickchart-complete:disabled,\n",
              "  .colab-df-quickchart-complete:disabled:hover {\n",
              "    background-color: var(--disabled-bg-color);\n",
              "    fill: var(--disabled-fill-color);\n",
              "    box-shadow: none;\n",
              "  }\n",
              "\n",
              "  .colab-df-spinner {\n",
              "    border: 2px solid var(--fill-color);\n",
              "    border-color: transparent;\n",
              "    border-bottom-color: var(--fill-color);\n",
              "    animation:\n",
              "      spin 1s steps(1) infinite;\n",
              "  }\n",
              "\n",
              "  @keyframes spin {\n",
              "    0% {\n",
              "      border-color: transparent;\n",
              "      border-bottom-color: var(--fill-color);\n",
              "      border-left-color: var(--fill-color);\n",
              "    }\n",
              "    20% {\n",
              "      border-color: transparent;\n",
              "      border-left-color: var(--fill-color);\n",
              "      border-top-color: var(--fill-color);\n",
              "    }\n",
              "    30% {\n",
              "      border-color: transparent;\n",
              "      border-left-color: var(--fill-color);\n",
              "      border-top-color: var(--fill-color);\n",
              "      border-right-color: var(--fill-color);\n",
              "    }\n",
              "    40% {\n",
              "      border-color: transparent;\n",
              "      border-right-color: var(--fill-color);\n",
              "      border-top-color: var(--fill-color);\n",
              "    }\n",
              "    60% {\n",
              "      border-color: transparent;\n",
              "      border-right-color: var(--fill-color);\n",
              "    }\n",
              "    80% {\n",
              "      border-color: transparent;\n",
              "      border-right-color: var(--fill-color);\n",
              "      border-bottom-color: var(--fill-color);\n",
              "    }\n",
              "    90% {\n",
              "      border-color: transparent;\n",
              "      border-bottom-color: var(--fill-color);\n",
              "    }\n",
              "  }\n",
              "</style>\n",
              "\n",
              "  <script>\n",
              "    async function quickchart(key) {\n",
              "      const quickchartButtonEl =\n",
              "        document.querySelector('#' + key + ' button');\n",
              "      quickchartButtonEl.disabled = true;  // To prevent multiple clicks.\n",
              "      quickchartButtonEl.classList.add('colab-df-spinner');\n",
              "      try {\n",
              "        const charts = await google.colab.kernel.invokeFunction(\n",
              "            'suggestCharts', [key], {});\n",
              "      } catch (error) {\n",
              "        console.error('Error during call to suggestCharts:', error);\n",
              "      }\n",
              "      quickchartButtonEl.classList.remove('colab-df-spinner');\n",
              "      quickchartButtonEl.classList.add('colab-df-quickchart-complete');\n",
              "    }\n",
              "    (() => {\n",
              "      let quickchartButtonEl =\n",
              "        document.querySelector('#df-af1b16c4-16d7-4be7-b034-66cf1afb1e70 button');\n",
              "      quickchartButtonEl.style.display =\n",
              "        google.colab.kernel.accessAllowed ? 'block' : 'none';\n",
              "    })();\n",
              "  </script>\n",
              "</div>\n",
              "    </div>\n",
              "  </div>\n"
            ]
          },
          "metadata": {},
          "execution_count": 13
        }
      ]
    },
    {
      "cell_type": "code",
      "source": [
        "df.isnull().sum()"
      ],
      "metadata": {
        "colab": {
          "base_uri": "https://localhost:8080/"
        },
        "id": "ji6CGciKcdSA",
        "outputId": "ade8acfc-fd77-40d1-ed03-334b6173ccbf"
      },
      "execution_count": 14,
      "outputs": [
        {
          "output_type": "execute_result",
          "data": {
            "text/plain": [
              "Teaching                      0\n",
              "Research                      0\n",
              "Citations                     0\n",
              "Industry_Income               0\n",
              "International_Outlook        11\n",
              "Country                       0\n",
              "Number_students               0\n",
              "Numb_students_per_Staff       0\n",
              "Score_Result                  0\n",
              "Rank                          0\n",
              "International_Students(%)    38\n",
              "Percentage_Female(%)         36\n",
              "Percentage_Male(%)           27\n",
              "dtype: int64"
            ]
          },
          "metadata": {},
          "execution_count": 14
        }
      ]
    },
    {
      "cell_type": "code",
      "source": [
        "stevilski=[\"International_Students\", \"Percentage_Female\", \"Percentage_Male\"]"
      ],
      "metadata": {
        "id": "J0GzymK3ddHK"
      },
      "execution_count": null,
      "outputs": []
    },
    {
      "cell_type": "code",
      "source": [
        "# 2. Vse manjkajoče vrednosti v številskih stolpcih nadomestite s\n",
        "# povprečjem stolpca (pri tem si pomagajte s knjižnico sklearn).\n",
        "#  Ponovno izpišite koliko je manjkajočih podatkov v posameznem stolpcu.\n",
        "from sklearn.impute import SimpleImputer\n",
        "import numpy as np\n",
        "povprecje= SimpleImputer(missing_values=np.nan, strategy=\"mean\")\n",
        "stevilski = [\"International_Students(%)\", \"Percentage_Female(%)\", \"Percentage_Male(%)\"]\n",
        "df[stevilski] = povprecje.fit_transform(df[stevilski])\n",
        "df.isnull().sum()\n"
      ],
      "metadata": {
        "colab": {
          "base_uri": "https://localhost:8080/"
        },
        "id": "b8de0Ia9chbq",
        "outputId": "067f8b44-af77-4e42-e3ad-3caff2e1aee4"
      },
      "execution_count": 22,
      "outputs": [
        {
          "output_type": "execute_result",
          "data": {
            "text/plain": [
              "Teaching                      0\n",
              "Research                      0\n",
              "Citations                     0\n",
              "Industry_Income               0\n",
              "International_Outlook        11\n",
              "Country                       0\n",
              "Number_students               0\n",
              "Numb_students_per_Staff       0\n",
              "Score_Result                  0\n",
              "Rank                          0\n",
              "International_Students(%)     0\n",
              "Percentage_Female(%)          0\n",
              "Percentage_Male(%)            0\n",
              "dtype: int64"
            ]
          },
          "metadata": {},
          "execution_count": 22
        }
      ]
    },
    {
      "cell_type": "code",
      "source": [
        "# 3. Kategorične oz. nominalne vrednosti nadomestite z\n",
        "# najpogostejšimi vrednostmi stolpca (pri tem si pomagajte s knjižnico sklearn).\n",
        "# Ponovno izpišite koliko je manjkajočih podatkov v posameznem stolpcu.\n",
        "kategoricni=[\"International_Outlook\"]\n",
        "najpogostejsi= SimpleImputer(missing_values=np.nan, strategy=\"most_frequent\") #ce dopolnjujemo z stevilskimi, damo most_frequent\n",
        "df[kategoricni]= najpogostejsi.fit_transform(df[kategoricni])\n",
        "df.isnull().sum()"
      ],
      "metadata": {
        "id": "PgUhR3wxfLj_",
        "outputId": "b48b20ad-7458-41c1-8844-689c13ef57a9",
        "colab": {
          "base_uri": "https://localhost:8080/"
        }
      },
      "execution_count": 26,
      "outputs": [
        {
          "output_type": "execute_result",
          "data": {
            "text/plain": [
              "Teaching                     0\n",
              "Research                     0\n",
              "Citations                    0\n",
              "Industry_Income              0\n",
              "International_Outlook        0\n",
              "Country                      0\n",
              "Number_students              0\n",
              "Numb_students_per_Staff      0\n",
              "Score_Result                 0\n",
              "Rank                         0\n",
              "International_Students(%)    0\n",
              "Percentage_Female(%)         0\n",
              "Percentage_Male(%)           0\n",
              "dtype: int64"
            ]
          },
          "metadata": {},
          "execution_count": 26
        }
      ]
    },
    {
      "cell_type": "code",
      "source": [
        "# 4. Podatke brez manjkajočih vrednosti shranite v .csv\n",
        "# datoteko poimenovano university_rank_no_nan.csv.\n",
        "# Stolpci naj bodo ločeni z vejico, decimalna števila pa zapisana s piko.\n",
        "df.to_csv('university_rank_no_nan.csv', sep=',', decimal='.')"
      ],
      "metadata": {
        "id": "cgvHpvD6fiS0"
      },
      "execution_count": 27,
      "outputs": []
    },
    {
      "cell_type": "code",
      "source": [
        "df.dtypes"
      ],
      "metadata": {
        "id": "nZT7oRJqgjzB",
        "outputId": "d44f903e-d61d-47fa-ec25-1e55a405c665",
        "colab": {
          "base_uri": "https://localhost:8080/"
        }
      },
      "execution_count": 28,
      "outputs": [
        {
          "output_type": "execute_result",
          "data": {
            "text/plain": [
              "Teaching                     float64\n",
              "Research                     float64\n",
              "Citations                    float64\n",
              "Industry_Income              float64\n",
              "International_Outlook         object\n",
              "Country                       object\n",
              "Number_students               object\n",
              "Numb_students_per_Staff       object\n",
              "Score_Result                  object\n",
              "Rank                           int64\n",
              "International_Students(%)    float64\n",
              "Percentage_Female(%)         float64\n",
              "Percentage_Male(%)           float64\n",
              "dtype: object"
            ]
          },
          "metadata": {},
          "execution_count": 28
        }
      ]
    },
    {
      "cell_type": "code",
      "source": [
        "# 5. Podatke razdelite na učno in testno množico.\n",
        "# Vhod v vaš klasifikacijski algoritem naj predstavljajo vsi številski stolpci. Napovedovali boste vrednost International_Outlook.\n",
        "# Testna množica naj bo velikosti 25%, random_state pa 123.\n",
        "from sklearn.model_selection import train_test_split #y napovedujemo je kategoricen podatek\n",
        "#dolocimo in izhodne podatke\n",
        "izhod=\"Type\" #outcome\n",
        "vhod=[\"Rooms\", \"Bathroom\",\"CarSpots\", \"YearBuilt\",\"Price\" ]#predstavlja vec stolpcev, na podlagi cesa klasificiramo? keri so relevantni\n",
        "\n",
        "\n",
        "x_train,x_test, y_train, y_test= train_test_split(df[vhod], df[izhod], test_size=0.2, random_state=123)#radom state je naključna delitev\n",
        "x_train.shape"
      ],
      "metadata": {
        "id": "17QzfjuvgJHC"
      },
      "execution_count": null,
      "outputs": []
    }
  ],
  "metadata": {
    "colab": {
      "name": "Pozdravljeni v storitvi Colaboratory",
      "provenance": [],
      "include_colab_link": true
    },
    "kernelspec": {
      "display_name": "Python 3",
      "name": "python3"
    }
  },
  "nbformat": 4,
  "nbformat_minor": 0
}