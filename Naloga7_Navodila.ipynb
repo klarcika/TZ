{
  "nbformat": 4,
  "nbformat_minor": 0,
  "metadata": {
    "colab": {
      "provenance": [],
      "authorship_tag": "ABX9TyNpI1cw6f+OexK/WtFT4a5Q",
      "include_colab_link": true
    },
    "kernelspec": {
      "name": "python3",
      "display_name": "Python 3"
    },
    "language_info": {
      "name": "python"
    }
  },
  "cells": [
    {
      "cell_type": "markdown",
      "metadata": {
        "id": "view-in-github",
        "colab_type": "text"
      },
      "source": [
        "<a href=\"https://colab.research.google.com/github/klarcika/TZ/blob/main/Naloga7_Navodila.ipynb\" target=\"_parent\"><img src=\"https://colab.research.google.com/assets/colab-badge.svg\" alt=\"Open In Colab\"/></a>"
      ]
    },
    {
      "cell_type": "markdown",
      "source": [
        "PROJEKT: sami izniramo podatke za strojno ucenje in se odlocimo kaj bomo delali, klasifikacija, regresija, gručenje"
      ],
      "metadata": {
        "id": "hr8y9jBTkXBE"
      }
    },
    {
      "cell_type": "markdown",
      "source": [
        "REGRESIJA: ne moremo delati tega nad tekstom, slikami;\n",
        "napovedujemo številsko vrednost"
      ],
      "metadata": {
        "id": "Q5F9KyovkOST"
      }
    },
    {
      "cell_type": "code",
      "execution_count": null,
      "metadata": {
        "id": "uCrk_e6CkMzd"
      },
      "outputs": [],
      "source": [
        "#stevilski podatki so standardizirani\n",
        "import pandas as pd\n",
        "df=pd.read_csv(\"\")\n",
        "#za pretvorbo uproabimo dummy vrednosti\n",
        "#cena ni standardizirana; izhoni razred ne sme bit standardiziran\n",
        "df.shape()\n",
        "df.describe() #opisna statistika\n",
        "df.isnull().sum() #preverimo ali imamo manjkajoce podatke\n",
        "df.dtypes #preverimo katere tipe imamo\n"
      ]
    },
    {
      "cell_type": "code",
      "source": [
        "import seaborn as sns\n",
        "df1=df[[\"Rooms\",\"Bathroom\",\"CarSpots\",\"Landsize\",\"Price\"]].copy() #izberemo samo dolocene ?\n",
        "df1.tail() #izpis zadnji nekaj vrstic"
      ],
      "metadata": {
        "id": "5vVzhUN0mmGb"
      },
      "execution_count": null,
      "outputs": []
    },
    {
      "cell_type": "code",
      "source": [
        "sns.pairplot(df1) #uporaben za stevilske stoolpcce; prikazuje razmerja\n",
        "#uporabimo linearno regresijo : linearna odvisnost\n",
        "#zelimo delit podatke na ucne in testne\n",
        "from sklearn.model_selection import test_train_split\n",
        "izhod= \"Price\" #ne sme bit standardiziran\n",
        "vhod= df.colums.drop(izhod)\n",
        "\n",
        "#uporabljamo algoritem linearne regresije\n",
        "from sklearn.linear_model import LinearRegrassion\n",
        "x_train,x_test,y_train,y_test=test_train_split(df[vhod], df[izhod],test_size= 0.3, random_state= 123)\n",
        "\n",
        "lr= LinearRegesion\n",
        "lr.fit(x_train,y_train) #učimo podatke s metodo fit\n",
        "rez= lr.predict(x_test)\n",
        "print(rez[:3]) #izpis prvih 3-eh"
      ],
      "metadata": {
        "id": "mgSsmZmtnFeD"
      },
      "execution_count": null,
      "outputs": []
    },
    {
      "cell_type": "code",
      "source": [
        "y_test[:3] #izpsi dejanski vrednsoti\n",
        "#uporabimo metrike, ki niso iste kot pri klasifikaciji\n",
        "from sklearn.metrics import mean_absolute_error, mean_squared_error\n",
        "\n",
        "mean_absolute_error(y_test, rez) #damo not dejansko pravilne in potem preverjemo z rezultati\n",
        "mean_squared_error(y_test, rez)\n",
        "\n",
        "#pri regresiji morajo biti vrednosti čim nižje,manjsa kot je vrednsot boljsa je"
      ],
      "metadata": {
        "id": "FO8fyMhxpHV-"
      },
      "execution_count": null,
      "outputs": []
    },
    {
      "cell_type": "code",
      "source": [
        "#kako poiscemo najboljse nastavitve za neka parameter: randomize pa grid pri klasifikaciji\n",
        "#pri regresiji: decision tree\n",
        "from sklearn.tree import DecisionTreeRegresor\n",
        "from sklearn.model_selection import RandomizeSearchCV\n",
        "from scipy.stats import randint#izbira naključnih vrednosti\n",
        "\n",
        "parametri={'spliter':[\"best\", 'random'],\n",
        "           'max_depth':randint(2,50)\n",
        "           }\n",
        "reg= RandomizeSearchCV(DecisionTreeRegresor(), param_describution=parametri,cv=4, n_iter=10, scoring=\"neg_mean_absolute_error\" ) #ne uporabljmo stratified fold ampak klasicen fold\n",
        "#n_iter je število iteracij; scoring- kaj napovedujemo\n",
        "reg.fit(df[vhod],df[izhod]) #učeje\n",
        "reg.best_score_ #izpisemo najboljso vrednost\n",
        "reg.best_params_"
      ],
      "metadata": {
        "id": "WkwLT5O3qQKl"
      },
      "execution_count": null,
      "outputs": []
    },
    {
      "cell_type": "markdown",
      "source": [
        "algoritmi, metrike so drugacni in napovedujemo številsko vrednost;\n",
        "\n",
        "r2score <-razložena varianca"
      ],
      "metadata": {
        "id": "temDoEpJsTgI"
      }
    }
  ]
}