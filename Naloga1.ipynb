{
  "cells": [
    {
      "cell_type": "markdown",
      "metadata": {
        "id": "view-in-github",
        "colab_type": "text"
      },
      "source": [
        "<a href=\"https://colab.research.google.com/github/klarcika/TZ/blob/main/Naloga1.ipynb\" target=\"_parent\"><img src=\"https://colab.research.google.com/assets/colab-badge.svg\" alt=\"Open In Colab\"/></a>"
      ]
    },
    {
      "cell_type": "code",
      "source": [
        "# Ustvarimo slovar svetovnih košarkaških reprezentanc\n",
        "košarkaške_reprezentance = {\n",
        "    \"ZDA\": 786.6,\n",
        "    \"ESP\": 778.2,\n",
        "    \"GER\": 759.7,\n",
        "    \"AUS\": 755.8,\n",
        "    \"SRB\": 755.6,\n",
        "    \"ZBR\": 767.2\n",
        "}"
      ],
      "metadata": {
        "id": "qDfg1cVkW8GG"
      },
      "execution_count": null,
      "outputs": []
    },
    {
      "cell_type": "code",
      "source": [
        "#Izpišite reprezentance, ki imajo več kot 756 točk, v obliki \"Reprezentanca X je dosegla Y točk.\"\n",
        "for država, točke in košarkaške_reprezentance.items():\n",
        "    if točke > 756:\n",
        "        print(\"Reprezentanca {država} je dosegla {točke} točk.\")"
      ],
      "metadata": {
        "colab": {
          "base_uri": "https://localhost:8080/"
        },
        "id": "Tg_cMrnv6zNe",
        "outputId": "ddf16024-cfed-43f1-af5a-3d36d6e79a27"
      },
      "execution_count": null,
      "outputs": [
        {
          "output_type": "stream",
          "name": "stdout",
          "text": [
            "Reprezentanca ZDA je dosegla 786.6 točk.\n",
            "Reprezentanca ESP je dosegla 778.2 točk.\n",
            "Reprezentanca GER je dosegla 759.7 točk.\n",
            "Reprezentanca ZBR je dosegla 767.2 točk.\n"
          ]
        }
      ]
    },
    {
      "cell_type": "code",
      "source": [
        "# Izračunamo seštevek točk vseh reprezentanc\n",
        "seštevek_točk = sum(košarkaške_reprezentance.values())\n",
        "print(\"Seštevek točk vseh reprezentanc je\", seštevek_točk)"
      ],
      "metadata": {
        "colab": {
          "base_uri": "https://localhost:8080/"
        },
        "id": "Cno_Qciv78t2",
        "outputId": "61524cf2-bbc8-4296-b4c4-92059bcce135"
      },
      "execution_count": null,
      "outputs": [
        {
          "output_type": "stream",
          "name": "stdout",
          "text": [
            "Seštevek točk vseh reprezentanc je 4603.1\n"
          ]
        }
      ]
    },
    {
      "cell_type": "code",
      "source": [
        "# Izpišemo prestopna leta od 2005 do 2024\n",
        "for leto in range(2005, 2025):\n",
        "    print(f\"Prestopno leto: {leto}\")"
      ],
      "metadata": {
        "colab": {
          "base_uri": "https://localhost:8080/"
        },
        "id": "dAQXK-GN786I",
        "outputId": "84bba33c-2eb6-4a9a-b150-b0dd67e4c40c"
      },
      "execution_count": null,
      "outputs": [
        {
          "output_type": "stream",
          "name": "stdout",
          "text": [
            "Prestopno leto: 2005\n",
            "Prestopno leto: 2006\n",
            "Prestopno leto: 2007\n",
            "Prestopno leto: 2008\n",
            "Prestopno leto: 2009\n",
            "Prestopno leto: 2010\n",
            "Prestopno leto: 2011\n",
            "Prestopno leto: 2012\n",
            "Prestopno leto: 2013\n",
            "Prestopno leto: 2014\n",
            "Prestopno leto: 2015\n",
            "Prestopno leto: 2016\n",
            "Prestopno leto: 2017\n",
            "Prestopno leto: 2018\n",
            "Prestopno leto: 2019\n",
            "Prestopno leto: 2020\n",
            "Prestopno leto: 2021\n",
            "Prestopno leto: 2022\n",
            "Prestopno leto: 2023\n",
            "Prestopno leto: 2024\n"
          ]
        }
      ]
    },
    {
      "cell_type": "code",
      "source": [
        "#Ustvarite seznam \"moji_podatki\" v katerega dodate tri podsezname.\n",
        "#Prvi podseznam naj vsebuje vaše 3 najljubše živali, drugi naj vsebuje vašo težo in višino, tretji pa naj vsebuje vrednosti [True, True, False, False].\n",
        "moji_podatki=[[ \"pes\", \"pingvin\", \"krokodil\"],[60, 167], [True, True, False, False]]"
      ],
      "metadata": {
        "id": "5Gk0DsuP8KcV"
      },
      "execution_count": null,
      "outputs": []
    },
    {
      "cell_type": "code",
      "source": [
        "#Seznam \"moji_podatki\" posodobite tako, da bo zadnji podseznam vseboval samo False vrednosti ter v eni vrstici (preko seznama \"moji_podatki\")\n",
        "#izpišite vse prve vrednosti iz podseznamov.                TO SE MORES DOPOLNIT\n",
        "moji_podatki[-1]= [False, False, False, False]\n",
        "print (moji_podatki)"
      ],
      "metadata": {
        "colab": {
          "base_uri": "https://localhost:8080/"
        },
        "id": "YRY0ELW69YI0",
        "outputId": "5f6b4b8d-4afb-4871-844a-f2472b45ced6"
      },
      "execution_count": null,
      "outputs": [
        {
          "output_type": "stream",
          "name": "stdout",
          "text": [
            "[['pes', 'pingvin', 'krokodil'], [60, 167], [False, False, False, False]]\n"
          ]
        }
      ]
    },
    {
      "cell_type": "code",
      "source": [
        "#Iz seznama \"moji_podatki\" izbrišite kar je na indeksu 1.  TO NI PRAV\n",
        "del moji_podatki[1]\n",
        "print(moji_podatki)"
      ],
      "metadata": {
        "colab": {
          "base_uri": "https://localhost:8080/"
        },
        "id": "ps13RZ3i9YX6",
        "outputId": "d5567ca5-4f12-450f-8c41-2f4be93bf1e8"
      },
      "execution_count": null,
      "outputs": [
        {
          "output_type": "stream",
          "name": "stdout",
          "text": [
            "[['pes', 'pingvin', 'krokodil']]\n"
          ]
        }
      ]
    },
    {
      "cell_type": "code",
      "source": [
        "#Ustvarite dva razreda: Serija in Razpredelnica. Ob tem lahko upoštevate omejitev, da Serija in Razpredelnica vsebujeta le števila (float ali int).\n",
        "class Serija:\n",
        "  def __init__(self, naziv, vrednosti=[]):\n",
        "    self.naziv=naziv,\n",
        "    self.vrednosti= vrednosti\n",
        "\n",
        "  def prestej(self):\n",
        "    return len(self.vrednosti)\n",
        "\n",
        "  def opisi(self):\n",
        "    if len(self.vrednosti) >0:\n",
        "      return sum(self.vrednosti)/len(self.vrednosti)\n",
        "    else:\n",
        "      return\n",
        "\n",
        "  def glava(self, x=5):\n",
        "    return self.vrednosti[:x]\n",
        "\n",
        "  def rep(self, x=5):\n",
        "    return self.vrednosti[-x:]\n",
        "\n",
        "  def dodaj(self, vrednost, indeks=None):\n",
        "    if indeks is not None:\n",
        "       self.vrednosti.insert(indeks, vrednost)\n",
        "    else:\n",
        "       self.vrednosti.append(vrednost)\n",
        "\n",
        "  def zbrisi(self, indeks):\n",
        "    del self.vrednosti[indeks]\n",
        "\n"
      ],
      "metadata": {
        "id": "XaPM2adNJzrL"
      },
      "execution_count": null,
      "outputs": []
    },
    {
      "cell_type": "code",
      "source": [
        "class Razpredelnica:\n",
        "  def __init__(self, stolpci=[]):\n",
        "    self.stolpci= stolpci\n",
        "\n",
        "  def prestej(self):\n",
        "    štVrstic= len(self.stolpci[0].vrednosti)\n",
        "    štStolpcev= len(self.stolpci)\n",
        "    return [štVrstic, štStolpcev]\n",
        "\n",
        "  def opisi(self):\n",
        "    povprecja={}\n",
        "    for stolpec in self.stolpci:\n",
        "      povprecja[stolpec.naziv]= stolpec.opisi\n",
        "    return povprecja\n",
        "\n",
        "  def glava(self, x=5):\n",
        "       glava_podatkov = []\n",
        "       for i in range(min(x, len(self.stolpci[0].vrednosti))):\n",
        "          vrstica = []\n",
        "          for stolpec in self.stolpci:\n",
        "              vrstica.append(stolpec.vrednosti[i])\n",
        "          glava_podatkov.append(vrstica)\n",
        "          return glava_podatkov\n",
        "\n",
        "  def rep(self, x=5):\n",
        "    rep_podatkov=[]\n",
        "    for i in range(max(len(self.stolpci[0].vrednosti) - x, 0), len(self.stolpci[0].vrednosti)):\n",
        "      vrstica=[]\n",
        "      for stolpec in self.stolpci:\n",
        "        vrstica.append(stolpec.vrednosti[i])\n",
        "      rep_podatkov.append(vrstica)\n",
        "    return rep_podatkov\n",
        "\n",
        "  def dodaj_vrstico(self, vrstica, indeks= None):\n",
        "    for i, stolpec in enumerate(self.stolpci):\n",
        "      stolpec.dodaj(vrstica[i], indeks)\n",
        "\n",
        "  def dodaj_stolpec(self, stolpec, indeks= None):\n",
        "      self.stolpci.insert(indeks, stolpec)\n"
      ],
      "metadata": {
        "id": "PD9ndzROkt8R"
      },
      "execution_count": null,
      "outputs": []
    },
    {
      "cell_type": "code",
      "source": [
        "s1 = Serija('visina', [1.5, 1.7, 1.4, 1.3, 1.9])\n",
        "s2 = Serija('sirina', [5, 7, 4, 3, 9, 6])\n",
        "s3 = Serija('starost', [15, 11, 10, 12])\n",
        "\n",
        "print(s1.prestej()) # 5\n",
        "print(s2.prestej()) # 6\n",
        "print(s3.prestej()) # 4\n",
        "\n",
        "s2.zbrisi(2)\n",
        "s3.dodaj(13, indeks=1)\n",
        "\n",
        "print(s1.prestej()) # 5\n",
        "print(s2.prestej()) # 5\n",
        "print(s3.prestej()) # 5\n",
        "\n",
        "raz = Razpredelnica([s1, s2, s3])\n",
        "print(raz.prestej()) # [5, 3]\n",
        "\n",
        "raz.dodaj_vrstico([1.6, 8, 14])\n",
        "#raz.dodaj_stolpec(Serija('teza', [34, 21, 56, 43, 51, 28]))\n",
        "\n",
        "print(raz.prestej()) # [6, 4]\n",
        "print(raz.opisi()) # {'visina': 1.5667, 'sirina': 6.3333, 'starost': 12.5, 'teza': 38.8333}"
      ],
      "metadata": {
        "colab": {
          "base_uri": "https://localhost:8080/"
        },
        "id": "3GYs42a0h-Dp",
        "outputId": "da9aff3f-ec69-4123-d3a1-45c605708328"
      },
      "execution_count": null,
      "outputs": [
        {
          "output_type": "stream",
          "name": "stdout",
          "text": [
            "5\n",
            "6\n",
            "4\n",
            "5\n",
            "5\n",
            "5\n",
            "[5, 3]\n",
            "[6, 3]\n",
            "{('visina',): <bound method Serija.opisi of <__main__.Serija object at 0x799d9c49d240>>, ('sirina',): <bound method Serija.opisi of <__main__.Serija object at 0x799d9c49f9a0>>, ('starost',): <bound method Serija.opisi of <__main__.Serija object at 0x799d9c49e8f0>>}\n"
          ]
        }
      ]
    }
  ],
  "metadata": {
    "colab": {
      "name": "Pozdravljeni v storitvi Colaboratory",
      "provenance": [],
      "include_colab_link": true
    },
    "kernelspec": {
      "display_name": "Python 3",
      "name": "python3"
    }
  },
  "nbformat": 4,
  "nbformat_minor": 0
}